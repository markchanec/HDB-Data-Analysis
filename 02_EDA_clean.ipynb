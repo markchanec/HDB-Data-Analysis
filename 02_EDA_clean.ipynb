{
 "cells": [
  {
   "cell_type": "code",
   "execution_count": 1,
   "id": "284a3658",
   "metadata": {
    "ExecuteTime": {
     "end_time": "2022-10-08T15:33:57.688396Z",
     "start_time": "2022-10-08T15:33:56.838807Z"
    }
   },
   "outputs": [
    {
     "data": {
      "text/html": [
       "<div>\n",
       "<style scoped>\n",
       "    .dataframe tbody tr th:only-of-type {\n",
       "        vertical-align: middle;\n",
       "    }\n",
       "\n",
       "    .dataframe tbody tr th {\n",
       "        vertical-align: top;\n",
       "    }\n",
       "\n",
       "    .dataframe thead th {\n",
       "        text-align: right;\n",
       "    }\n",
       "</style>\n",
       "<table border=\"1\" class=\"dataframe\">\n",
       "  <thead>\n",
       "    <tr style=\"text-align: right;\">\n",
       "      <th></th>\n",
       "      <th>month</th>\n",
       "      <th>town</th>\n",
       "      <th>flat_type</th>\n",
       "      <th>block</th>\n",
       "      <th>street_name</th>\n",
       "      <th>storey_range</th>\n",
       "      <th>floor_area_sqm</th>\n",
       "      <th>flat_model</th>\n",
       "      <th>lease_commence_date</th>\n",
       "      <th>resale_price</th>\n",
       "    </tr>\n",
       "  </thead>\n",
       "  <tbody>\n",
       "    <tr>\n",
       "      <th>0</th>\n",
       "      <td>1990-01</td>\n",
       "      <td>ANG MO KIO</td>\n",
       "      <td>1 ROOM</td>\n",
       "      <td>309</td>\n",
       "      <td>ANG MO KIO AVE 1</td>\n",
       "      <td>10 TO 12</td>\n",
       "      <td>31.0</td>\n",
       "      <td>IMPROVED</td>\n",
       "      <td>1977</td>\n",
       "      <td>9000.0</td>\n",
       "    </tr>\n",
       "    <tr>\n",
       "      <th>1</th>\n",
       "      <td>1990-01</td>\n",
       "      <td>ANG MO KIO</td>\n",
       "      <td>1 ROOM</td>\n",
       "      <td>309</td>\n",
       "      <td>ANG MO KIO AVE 1</td>\n",
       "      <td>04 TO 06</td>\n",
       "      <td>31.0</td>\n",
       "      <td>IMPROVED</td>\n",
       "      <td>1977</td>\n",
       "      <td>6000.0</td>\n",
       "    </tr>\n",
       "    <tr>\n",
       "      <th>2</th>\n",
       "      <td>1990-01</td>\n",
       "      <td>ANG MO KIO</td>\n",
       "      <td>1 ROOM</td>\n",
       "      <td>309</td>\n",
       "      <td>ANG MO KIO AVE 1</td>\n",
       "      <td>10 TO 12</td>\n",
       "      <td>31.0</td>\n",
       "      <td>IMPROVED</td>\n",
       "      <td>1977</td>\n",
       "      <td>8000.0</td>\n",
       "    </tr>\n",
       "    <tr>\n",
       "      <th>3</th>\n",
       "      <td>1990-01</td>\n",
       "      <td>ANG MO KIO</td>\n",
       "      <td>1 ROOM</td>\n",
       "      <td>309</td>\n",
       "      <td>ANG MO KIO AVE 1</td>\n",
       "      <td>07 TO 09</td>\n",
       "      <td>31.0</td>\n",
       "      <td>IMPROVED</td>\n",
       "      <td>1977</td>\n",
       "      <td>6000.0</td>\n",
       "    </tr>\n",
       "    <tr>\n",
       "      <th>4</th>\n",
       "      <td>1990-01</td>\n",
       "      <td>ANG MO KIO</td>\n",
       "      <td>3 ROOM</td>\n",
       "      <td>216</td>\n",
       "      <td>ANG MO KIO AVE 1</td>\n",
       "      <td>04 TO 06</td>\n",
       "      <td>73.0</td>\n",
       "      <td>NEW GENERATION</td>\n",
       "      <td>1976</td>\n",
       "      <td>47200.0</td>\n",
       "    </tr>\n",
       "  </tbody>\n",
       "</table>\n",
       "</div>"
      ],
      "text/plain": [
       "     month        town flat_type block       street_name storey_range  \\\n",
       "0  1990-01  ANG MO KIO    1 ROOM   309  ANG MO KIO AVE 1     10 TO 12   \n",
       "1  1990-01  ANG MO KIO    1 ROOM   309  ANG MO KIO AVE 1     04 TO 06   \n",
       "2  1990-01  ANG MO KIO    1 ROOM   309  ANG MO KIO AVE 1     10 TO 12   \n",
       "3  1990-01  ANG MO KIO    1 ROOM   309  ANG MO KIO AVE 1     07 TO 09   \n",
       "4  1990-01  ANG MO KIO    3 ROOM   216  ANG MO KIO AVE 1     04 TO 06   \n",
       "\n",
       "   floor_area_sqm      flat_model  lease_commence_date  resale_price  \n",
       "0            31.0        IMPROVED                 1977        9000.0  \n",
       "1            31.0        IMPROVED                 1977        6000.0  \n",
       "2            31.0        IMPROVED                 1977        8000.0  \n",
       "3            31.0        IMPROVED                 1977        6000.0  \n",
       "4            73.0  NEW GENERATION                 1976       47200.0  "
      ]
     },
     "execution_count": 1,
     "metadata": {},
     "output_type": "execute_result"
    }
   ],
   "source": [
    "import pandas as pd\n",
    "#load\n",
    "df = pd.read_csv(\"data/resale-flat-prices/merged_prices.csv\")\n",
    "df.head()"
   ]
  },
  {
   "cell_type": "code",
   "execution_count": 2,
   "id": "dad8671b",
   "metadata": {
    "ExecuteTime": {
     "end_time": "2022-10-08T15:33:58.048025Z",
     "start_time": "2022-10-08T15:33:57.689395Z"
    }
   },
   "outputs": [
    {
     "name": "stdout",
     "output_type": "stream",
     "text": [
      "(883064, 10)\n"
     ]
    },
    {
     "data": {
      "text/plain": [
       "(881129, 10)"
      ]
     },
     "execution_count": 2,
     "metadata": {},
     "output_type": "execute_result"
    }
   ],
   "source": [
    "#drop duplicates\n",
    "print(df.shape)\n",
    "df.drop_duplicates(inplace=True)\n",
    "df.shape"
   ]
  },
  {
   "cell_type": "code",
   "execution_count": 3,
   "id": "70fd5f33",
   "metadata": {
    "ExecuteTime": {
     "end_time": "2022-10-08T15:33:58.407605Z",
     "start_time": "2022-10-08T15:33:58.050009Z"
    }
   },
   "outputs": [
    {
     "name": "stdout",
     "output_type": "stream",
     "text": [
      "<class 'pandas.core.frame.DataFrame'>\n",
      "Int64Index: 881129 entries, 0 to 883063\n",
      "Data columns (total 10 columns):\n",
      " #   Column               Non-Null Count   Dtype  \n",
      "---  ------               --------------   -----  \n",
      " 0   month                881129 non-null  object \n",
      " 1   town                 881129 non-null  object \n",
      " 2   flat_type            881129 non-null  object \n",
      " 3   block                881129 non-null  object \n",
      " 4   street_name          881129 non-null  object \n",
      " 5   storey_range         881129 non-null  object \n",
      " 6   floor_area_sqm       881129 non-null  float64\n",
      " 7   flat_model           881129 non-null  object \n",
      " 8   lease_commence_date  881129 non-null  int64  \n",
      " 9   resale_price         881129 non-null  float64\n",
      "dtypes: float64(2), int64(1), object(7)\n",
      "memory usage: 73.9+ MB\n"
     ]
    }
   ],
   "source": [
    "#check null value and dtypes\n",
    "df.info()"
   ]
  },
  {
   "cell_type": "code",
   "execution_count": 4,
   "id": "0019eb05",
   "metadata": {
    "ExecuteTime": {
     "end_time": "2022-10-08T15:33:58.439492Z",
     "start_time": "2022-10-08T15:33:58.408591Z"
    }
   },
   "outputs": [
    {
     "data": {
      "text/plain": [
       "4 ROOM              332514\n",
       "3 ROOM              284186\n",
       "5 ROOM              185076\n",
       "EXECUTIVE            66934\n",
       "2 ROOM               10626\n",
       "1 ROOM                1261\n",
       "MULTI GENERATION       279\n",
       "MULTI-GENERATION       253\n",
       "Name: flat_type, dtype: int64"
      ]
     },
     "execution_count": 4,
     "metadata": {},
     "output_type": "execute_result"
    }
   ],
   "source": [
    "df.flat_type.value_counts()"
   ]
  },
  {
   "cell_type": "code",
   "execution_count": 5,
   "id": "846407b5",
   "metadata": {
    "ExecuteTime": {
     "end_time": "2022-10-08T15:33:58.628415Z",
     "start_time": "2022-10-08T15:33:58.440473Z"
    }
   },
   "outputs": [
    {
     "data": {
      "text/plain": [
       "MODEL A                   247016\n",
       "IMPROVED                  230865\n",
       "NEW GENERATION            183416\n",
       "SIMPLIFIED                 55828\n",
       "PREMIUM APARTMENT          42115\n",
       "STANDARD                   41379\n",
       "APARTMENT                  34122\n",
       "MAISONETTE                 28606\n",
       "MODEL A2                    9641\n",
       "DBSS                        2800\n",
       "MODEL A-MAISONETTE          2003\n",
       "ADJOINED FLAT               1183\n",
       "TERRACE                      675\n",
       "MULTI GENERATION             532\n",
       "TYPE S1                      382\n",
       "TYPE S2                      197\n",
       "IMPROVED-MAISONETTE          119\n",
       "PREMIUM APARTMENT LOFT        94\n",
       "PREMIUM MAISONETTE            86\n",
       "2-ROOM                        67\n",
       "3GEN                           3\n",
       "Name: flat_model, dtype: int64"
      ]
     },
     "execution_count": 5,
     "metadata": {},
     "output_type": "execute_result"
    }
   ],
   "source": [
    "df['flat_model'] = df['flat_model'].str.upper()\n",
    "df.flat_model.value_counts()"
   ]
  },
  {
   "cell_type": "code",
   "execution_count": 6,
   "id": "780ba406",
   "metadata": {
    "ExecuteTime": {
     "end_time": "2022-10-08T15:33:59.248439Z",
     "start_time": "2022-10-08T15:33:58.629416Z"
    }
   },
   "outputs": [
    {
     "data": {
      "text/plain": [
       "4 ROOM       330755\n",
       "3 ROOM       283226\n",
       "5 ROOM       180695\n",
       "EXECUTIVE     37887\n",
       "2 ROOM        10625\n",
       "1 ROOM         1261\n",
       "Name: flat_type, dtype: int64"
      ]
     },
     "execution_count": 6,
     "metadata": {},
     "output_type": "execute_result"
    }
   ],
   "source": [
    "#remove discontiued flat models or non-std flats for apple to apple comparison later\n",
    "df_std = df.where(df.flat_model.isin(['MODEL A', 'IMPROVED', 'NEW GENERATION', 'SIMPLIFIED'\n",
    "                                      , 'PREMIUM APARTMENT', 'STANDARD', 'APARTMENT', 'MODEL A2', '2-ROOM']))\n",
    "df_std.dropna(inplace=True)\n",
    "df_std.flat_type.value_counts()"
   ]
  },
  {
   "cell_type": "code",
   "execution_count": 7,
   "id": "2efd5133",
   "metadata": {
    "ExecuteTime": {
     "end_time": "2022-10-08T15:33:59.830348Z",
     "start_time": "2022-10-08T15:33:59.249424Z"
    }
   },
   "outputs": [
    {
     "data": {
      "text/html": [
       "<div>\n",
       "<style scoped>\n",
       "    .dataframe tbody tr th:only-of-type {\n",
       "        vertical-align: middle;\n",
       "    }\n",
       "\n",
       "    .dataframe tbody tr th {\n",
       "        vertical-align: top;\n",
       "    }\n",
       "\n",
       "    .dataframe thead th {\n",
       "        text-align: right;\n",
       "    }\n",
       "</style>\n",
       "<table border=\"1\" class=\"dataframe\">\n",
       "  <thead>\n",
       "    <tr style=\"text-align: right;\">\n",
       "      <th></th>\n",
       "      <th>month</th>\n",
       "      <th>town</th>\n",
       "      <th>flat_type</th>\n",
       "      <th>block</th>\n",
       "      <th>street_name</th>\n",
       "      <th>storey_range</th>\n",
       "      <th>floor_area_sqm</th>\n",
       "      <th>flat_model</th>\n",
       "      <th>lease_commence_date</th>\n",
       "      <th>resale_price</th>\n",
       "    </tr>\n",
       "  </thead>\n",
       "  <tbody>\n",
       "    <tr>\n",
       "      <th>322</th>\n",
       "      <td>1990-01</td>\n",
       "      <td>BEDOK</td>\n",
       "      <td>5 ROOM</td>\n",
       "      <td>722</td>\n",
       "      <td>BEDOK RESERVOIR RD</td>\n",
       "      <td>07 TO 09</td>\n",
       "      <td>139.0</td>\n",
       "      <td>MODEL A-MAISONETTE</td>\n",
       "      <td>1984.0</td>\n",
       "      <td>170000.0</td>\n",
       "    </tr>\n",
       "    <tr>\n",
       "      <th>334</th>\n",
       "      <td>1990-01</td>\n",
       "      <td>BEDOK</td>\n",
       "      <td>EXECUTIVE</td>\n",
       "      <td>725</td>\n",
       "      <td>BEDOK RESERVOIR RD</td>\n",
       "      <td>01 TO 03</td>\n",
       "      <td>151.0</td>\n",
       "      <td>MAISONETTE</td>\n",
       "      <td>1984.0</td>\n",
       "      <td>195000.0</td>\n",
       "    </tr>\n",
       "    <tr>\n",
       "      <th>403</th>\n",
       "      <td>1990-01</td>\n",
       "      <td>BUKIT BATOK</td>\n",
       "      <td>EXECUTIVE</td>\n",
       "      <td>223</td>\n",
       "      <td>BT BATOK EAST AVE 3</td>\n",
       "      <td>04 TO 06</td>\n",
       "      <td>149.0</td>\n",
       "      <td>MAISONETTE</td>\n",
       "      <td>1985.0</td>\n",
       "      <td>160000.0</td>\n",
       "    </tr>\n",
       "    <tr>\n",
       "      <th>404</th>\n",
       "      <td>1990-01</td>\n",
       "      <td>BUKIT BATOK</td>\n",
       "      <td>EXECUTIVE</td>\n",
       "      <td>223</td>\n",
       "      <td>BT BATOK EAST AVE 3</td>\n",
       "      <td>01 TO 03</td>\n",
       "      <td>149.0</td>\n",
       "      <td>MAISONETTE</td>\n",
       "      <td>1985.0</td>\n",
       "      <td>160000.0</td>\n",
       "    </tr>\n",
       "    <tr>\n",
       "      <th>405</th>\n",
       "      <td>1990-01</td>\n",
       "      <td>BUKIT BATOK</td>\n",
       "      <td>EXECUTIVE</td>\n",
       "      <td>221</td>\n",
       "      <td>BT BATOK EAST AVE 3</td>\n",
       "      <td>10 TO 12</td>\n",
       "      <td>149.0</td>\n",
       "      <td>MAISONETTE</td>\n",
       "      <td>1985.0</td>\n",
       "      <td>160000.0</td>\n",
       "    </tr>\n",
       "  </tbody>\n",
       "</table>\n",
       "</div>"
      ],
      "text/plain": [
       "       month         town  flat_type block          street_name storey_range  \\\n",
       "322  1990-01        BEDOK     5 ROOM   722   BEDOK RESERVOIR RD     07 TO 09   \n",
       "334  1990-01        BEDOK  EXECUTIVE   725   BEDOK RESERVOIR RD     01 TO 03   \n",
       "403  1990-01  BUKIT BATOK  EXECUTIVE   223  BT BATOK EAST AVE 3     04 TO 06   \n",
       "404  1990-01  BUKIT BATOK  EXECUTIVE   223  BT BATOK EAST AVE 3     01 TO 03   \n",
       "405  1990-01  BUKIT BATOK  EXECUTIVE   221  BT BATOK EAST AVE 3     10 TO 12   \n",
       "\n",
       "     floor_area_sqm          flat_model  lease_commence_date  resale_price  \n",
       "322           139.0  MODEL A-MAISONETTE               1984.0      170000.0  \n",
       "334           151.0          MAISONETTE               1984.0      195000.0  \n",
       "403           149.0          MAISONETTE               1985.0      160000.0  \n",
       "404           149.0          MAISONETTE               1985.0      160000.0  \n",
       "405           149.0          MAISONETTE               1985.0      160000.0  "
      ]
     },
     "execution_count": 7,
     "metadata": {},
     "output_type": "execute_result"
    }
   ],
   "source": [
    "#treat masionnettes seaprately due to their distinct features and possibly different pricing from executive flat\n",
    "df_mansionette = df.where(df.flat_model.isin(['MAISONETTE', 'MODEL A-MAISONETTE', \n",
    "                                      'IMPROVED-MAISONETTE', 'PREMIUM MAISONETTE']))\n",
    "df_mansionette.dropna(inplace=True)\n",
    "df_mansionette.head()"
   ]
  },
  {
   "cell_type": "code",
   "execution_count": 8,
   "id": "22488bf8",
   "metadata": {
    "ExecuteTime": {
     "end_time": "2022-10-08T15:33:59.907828Z",
     "start_time": "2022-10-08T15:33:59.831689Z"
    }
   },
   "outputs": [],
   "source": [
    "#relassify masionnettes flat type and put it back\n",
    "df_mansionette['flat_type'] = 'MAISONETTE'\n",
    "df = pd.concat([df_std, df_mansionette])"
   ]
  },
  {
   "cell_type": "code",
   "execution_count": 9,
   "id": "de640441",
   "metadata": {
    "ExecuteTime": {
     "end_time": "2022-10-08T15:33:59.939759Z",
     "start_time": "2022-10-08T15:33:59.908812Z"
    }
   },
   "outputs": [
    {
     "data": {
      "text/plain": [
       "4 ROOM        330755\n",
       "3 ROOM        283226\n",
       "5 ROOM        180695\n",
       "EXECUTIVE      37887\n",
       "MAISONETTE     30814\n",
       "2 ROOM         10625\n",
       "1 ROOM          1261\n",
       "Name: flat_type, dtype: int64"
      ]
     },
     "execution_count": 9,
     "metadata": {},
     "output_type": "execute_result"
    }
   ],
   "source": [
    "#check population size\n",
    "df.flat_type.value_counts()"
   ]
  },
  {
   "cell_type": "code",
   "execution_count": 10,
   "id": "a0747c6c",
   "metadata": {
    "ExecuteTime": {
     "end_time": "2022-10-08T15:34:00.040572Z",
     "start_time": "2022-10-08T15:33:59.941394Z"
    }
   },
   "outputs": [],
   "source": [
    "#drop flats due to insufficient samples to reduce bias or to be modelled separately\n",
    "#executive and masionette maintained due to Section 1 Question B\n",
    "#df_common = df.where(~df.flat_type.isin([\"1 ROOM\", \"2 ROOM\"]))\n",
    "#df_common.dropna(inplace=True)\n",
    "df_common = df.copy(deep=True)"
   ]
  },
  {
   "cell_type": "code",
   "execution_count": 11,
   "id": "bc1b67d5",
   "metadata": {
    "ExecuteTime": {
     "end_time": "2022-10-08T15:34:00.119400Z",
     "start_time": "2022-10-08T15:34:00.041573Z"
    }
   },
   "outputs": [
    {
     "data": {
      "text/html": [
       "<div>\n",
       "<style scoped>\n",
       "    .dataframe tbody tr th:only-of-type {\n",
       "        vertical-align: middle;\n",
       "    }\n",
       "\n",
       "    .dataframe tbody tr th {\n",
       "        vertical-align: top;\n",
       "    }\n",
       "\n",
       "    .dataframe thead th {\n",
       "        text-align: right;\n",
       "    }\n",
       "</style>\n",
       "<table border=\"1\" class=\"dataframe\">\n",
       "  <thead>\n",
       "    <tr style=\"text-align: right;\">\n",
       "      <th></th>\n",
       "      <th>count</th>\n",
       "      <th>mean</th>\n",
       "      <th>std</th>\n",
       "      <th>min</th>\n",
       "      <th>25%</th>\n",
       "      <th>50%</th>\n",
       "      <th>75%</th>\n",
       "      <th>max</th>\n",
       "    </tr>\n",
       "    <tr>\n",
       "      <th>flat_type</th>\n",
       "      <th></th>\n",
       "      <th></th>\n",
       "      <th></th>\n",
       "      <th></th>\n",
       "      <th></th>\n",
       "      <th></th>\n",
       "      <th></th>\n",
       "      <th></th>\n",
       "    </tr>\n",
       "  </thead>\n",
       "  <tbody>\n",
       "    <tr>\n",
       "      <th>1 ROOM</th>\n",
       "      <td>1261.0</td>\n",
       "      <td>30.278351</td>\n",
       "      <td>0.999722</td>\n",
       "      <td>28.0</td>\n",
       "      <td>29.0</td>\n",
       "      <td>31.0</td>\n",
       "      <td>31.0</td>\n",
       "      <td>31.0</td>\n",
       "    </tr>\n",
       "    <tr>\n",
       "      <th>2 ROOM</th>\n",
       "      <td>10625.0</td>\n",
       "      <td>45.401336</td>\n",
       "      <td>3.801130</td>\n",
       "      <td>34.0</td>\n",
       "      <td>43.0</td>\n",
       "      <td>45.0</td>\n",
       "      <td>47.0</td>\n",
       "      <td>67.0</td>\n",
       "    </tr>\n",
       "    <tr>\n",
       "      <th>3 ROOM</th>\n",
       "      <td>283226.0</td>\n",
       "      <td>68.291674</td>\n",
       "      <td>6.232298</td>\n",
       "      <td>46.0</td>\n",
       "      <td>65.0</td>\n",
       "      <td>67.0</td>\n",
       "      <td>73.0</td>\n",
       "      <td>137.0</td>\n",
       "    </tr>\n",
       "    <tr>\n",
       "      <th>4 ROOM</th>\n",
       "      <td>330755.0</td>\n",
       "      <td>96.589313</td>\n",
       "      <td>8.305113</td>\n",
       "      <td>70.0</td>\n",
       "      <td>91.0</td>\n",
       "      <td>97.0</td>\n",
       "      <td>104.0</td>\n",
       "      <td>135.0</td>\n",
       "    </tr>\n",
       "    <tr>\n",
       "      <th>5 ROOM</th>\n",
       "      <td>180695.0</td>\n",
       "      <td>120.677512</td>\n",
       "      <td>6.879856</td>\n",
       "      <td>99.0</td>\n",
       "      <td>117.0</td>\n",
       "      <td>121.0</td>\n",
       "      <td>123.0</td>\n",
       "      <td>157.0</td>\n",
       "    </tr>\n",
       "    <tr>\n",
       "      <th>EXECUTIVE</th>\n",
       "      <td>37887.0</td>\n",
       "      <td>145.455750</td>\n",
       "      <td>11.613064</td>\n",
       "      <td>124.0</td>\n",
       "      <td>141.0</td>\n",
       "      <td>144.0</td>\n",
       "      <td>148.0</td>\n",
       "      <td>221.0</td>\n",
       "    </tr>\n",
       "    <tr>\n",
       "      <th>MAISONETTE</th>\n",
       "      <td>30814.0</td>\n",
       "      <td>147.878023</td>\n",
       "      <td>5.529556</td>\n",
       "      <td>133.0</td>\n",
       "      <td>146.0</td>\n",
       "      <td>147.0</td>\n",
       "      <td>150.0</td>\n",
       "      <td>243.0</td>\n",
       "    </tr>\n",
       "  </tbody>\n",
       "</table>\n",
       "</div>"
      ],
      "text/plain": [
       "               count        mean        std    min    25%    50%    75%    max\n",
       "flat_type                                                                     \n",
       "1 ROOM        1261.0   30.278351   0.999722   28.0   29.0   31.0   31.0   31.0\n",
       "2 ROOM       10625.0   45.401336   3.801130   34.0   43.0   45.0   47.0   67.0\n",
       "3 ROOM      283226.0   68.291674   6.232298   46.0   65.0   67.0   73.0  137.0\n",
       "4 ROOM      330755.0   96.589313   8.305113   70.0   91.0   97.0  104.0  135.0\n",
       "5 ROOM      180695.0  120.677512   6.879856   99.0  117.0  121.0  123.0  157.0\n",
       "EXECUTIVE    37887.0  145.455750  11.613064  124.0  141.0  144.0  148.0  221.0\n",
       "MAISONETTE   30814.0  147.878023   5.529556  133.0  146.0  147.0  150.0  243.0"
      ]
     },
     "execution_count": 11,
     "metadata": {},
     "output_type": "execute_result"
    }
   ],
   "source": [
    "#check sqm for each flat type\n",
    "df_common.groupby('flat_type').floor_area_sqm.describe()"
   ]
  },
  {
   "cell_type": "code",
   "execution_count": 12,
   "id": "c9fb3d21",
   "metadata": {
    "ExecuteTime": {
     "end_time": "2022-10-08T15:34:00.810963Z",
     "start_time": "2022-10-08T15:34:00.120856Z"
    }
   },
   "outputs": [
    {
     "data": {
      "text/plain": [
       "103.0    131\n",
       "107.0     23\n",
       "137.0     15\n",
       "104.0     10\n",
       "128.0      1\n",
       "115.0      1\n",
       "Name: floor_area_sqm, dtype: int64"
      ]
     },
     "execution_count": 12,
     "metadata": {},
     "output_type": "execute_result"
    }
   ],
   "source": [
    "df_common['address'] = df_common.block + \" \" + df_common.street_name\n",
    "df_big3rm = df_common.where((df_common.flat_type==\"3 ROOM\") & (df_common.floor_area_sqm>100))\n",
    "df_big3rm.dropna(inplace=True)\n",
    "df_big3rm.floor_area_sqm.value_counts()"
   ]
  },
  {
   "cell_type": "code",
   "execution_count": 13,
   "id": "efd6d5a5",
   "metadata": {
    "ExecuteTime": {
     "end_time": "2022-10-08T15:34:00.826728Z",
     "start_time": "2022-10-08T15:34:00.811952Z"
    }
   },
   "outputs": [
    {
     "data": {
      "text/plain": [
       "4 SAGO LANE    15\n",
       "Name: address, dtype: int64"
      ]
     },
     "execution_count": 13,
     "metadata": {},
     "output_type": "execute_result"
    }
   ],
   "source": [
    "df_big3rm137 = df_big3rm.where(df_big3rm.floor_area_sqm==137)\n",
    "df_big3rm137.dropna(inplace=True)\n",
    "df_big3rm137.address.value_counts()"
   ]
  },
  {
   "cell_type": "code",
   "execution_count": 14,
   "id": "09b2d71a",
   "metadata": {
    "ExecuteTime": {
     "end_time": "2022-10-08T15:34:01.399716Z",
     "start_time": "2022-10-08T15:34:00.827716Z"
    }
   },
   "outputs": [
    {
     "data": {
      "text/plain": [
       "67.0     132\n",
       "57.0      46\n",
       "137.0     15\n",
       "128.0      1\n",
       "Name: floor_area_sqm, dtype: int64"
      ]
     },
     "execution_count": 14,
     "metadata": {},
     "output_type": "execute_result"
    }
   ],
   "source": [
    "#compare with the rest of \"4 SAGO LANE\"\n",
    "df_compare = df_common.where((df_common.flat_type==\"3 ROOM\") & (df_common.address==\"4 SAGO LANE\"))\n",
    "df_compare.dropna(inplace=True)\n",
    "df_compare.floor_area_sqm.value_counts()\n",
    "#likely adjoined flats instead"
   ]
  },
  {
   "cell_type": "code",
   "execution_count": 15,
   "id": "4321e8ee",
   "metadata": {
    "ExecuteTime": {
     "end_time": "2022-10-08T15:34:01.414924Z",
     "start_time": "2022-10-08T15:34:01.400716Z"
    }
   },
   "outputs": [
    {
     "data": {
      "text/plain": [
       "14 KG ARANG RD           73\n",
       "12 KG ARANG RD           56\n",
       "210 NEW UPP CHANGI RD     2\n",
       "Name: address, dtype: int64"
      ]
     },
     "execution_count": 15,
     "metadata": {},
     "output_type": "execute_result"
    }
   ],
   "source": [
    "df_big3rm103 = df_big3rm.where(df_big3rm.floor_area_sqm==103)\n",
    "df_big3rm103.dropna(inplace=True)\n",
    "df_big3rm103.address.value_counts()"
   ]
  },
  {
   "cell_type": "code",
   "execution_count": 16,
   "id": "97852697",
   "metadata": {
    "ExecuteTime": {
     "end_time": "2022-10-08T15:34:01.997251Z",
     "start_time": "2022-10-08T15:34:01.416912Z"
    }
   },
   "outputs": [
    {
     "data": {
      "text/plain": [
       "103.0    73\n",
       "107.0    10\n",
       "Name: floor_area_sqm, dtype: int64"
      ]
     },
     "execution_count": 16,
     "metadata": {},
     "output_type": "execute_result"
    }
   ],
   "source": [
    "#compare with the rest of \"14 KG ARANG RD\"\n",
    "df_compare = df_common.where((df_common.flat_type==\"3 ROOM\") & (df_common.address==\"14 KG ARANG RD\"))\n",
    "df_compare.dropna(inplace=True)\n",
    "df_compare.floor_area_sqm.value_counts()\n",
    "#likely true outlier"
   ]
  },
  {
   "cell_type": "code",
   "execution_count": 17,
   "id": "31e05fba",
   "metadata": {
    "ExecuteTime": {
     "end_time": "2022-10-08T15:34:02.564629Z",
     "start_time": "2022-10-08T15:34:01.998266Z"
    }
   },
   "outputs": [
    {
     "data": {
      "text/plain": [
       "103.0    56\n",
       "107.0    13\n",
       "Name: floor_area_sqm, dtype: int64"
      ]
     },
     "execution_count": 17,
     "metadata": {},
     "output_type": "execute_result"
    }
   ],
   "source": [
    "#compare with the rest of \"12 KG ARANG RD\"\n",
    "df_compare = df_common.where((df_common.flat_type==\"3 ROOM\") & (df_common.address==\"12 KG ARANG RD\"))\n",
    "df_compare.dropna(inplace=True)\n",
    "df_compare.floor_area_sqm.value_counts()\n",
    "#likely true outlier"
   ]
  },
  {
   "cell_type": "code",
   "execution_count": 18,
   "id": "e1e793b9",
   "metadata": {
    "ExecuteTime": {
     "end_time": "2022-10-08T15:34:03.175840Z",
     "start_time": "2022-10-08T15:34:02.566614Z"
    }
   },
   "outputs": [
    {
     "data": {
      "text/plain": [
       "68.0     32\n",
       "83.0      5\n",
       "94.0      3\n",
       "103.0     2\n",
       "Name: floor_area_sqm, dtype: int64"
      ]
     },
     "execution_count": 18,
     "metadata": {},
     "output_type": "execute_result"
    }
   ],
   "source": [
    "#compare with the rest of \"210 NEW UPP CHANGI RD\"\n",
    "df_compare = df_common.where((df.flat_type==\"3 ROOM\") & (df_common.address==\"210 NEW UPP CHANGI RD\"))\n",
    "df_compare.dropna(inplace=True)\n",
    "df_compare.floor_area_sqm.value_counts()\n",
    "#likely adjoined flats"
   ]
  },
  {
   "cell_type": "code",
   "execution_count": 19,
   "id": "695b4481",
   "metadata": {
    "ExecuteTime": {
     "end_time": "2022-10-08T15:34:03.836987Z",
     "start_time": "2022-10-08T15:34:03.177172Z"
    }
   },
   "outputs": [
    {
     "data": {
      "text/plain": [
       "count    283199.000000\n",
       "mean         68.286398\n",
       "std           6.207242\n",
       "min          46.000000\n",
       "25%          65.000000\n",
       "50%          67.000000\n",
       "75%          73.000000\n",
       "max         107.000000\n",
       "Name: floor_area_sqm, dtype: float64"
      ]
     },
     "execution_count": 19,
     "metadata": {},
     "output_type": "execute_result"
    }
   ],
   "source": [
    "#only left 104 and 115 sqm 3-rooms not checked. To drop since only 11 units.\n",
    "#cleanup the 3 room\n",
    "df_3rm = df_common.where((df_common.flat_type==\"3 ROOM\") \n",
    "                      & ((df_common.floor_area_sqm<=100)\n",
    "                          | (df_common.floor_area_sqm==103)\n",
    "                          | (df_common.floor_area_sqm==107)))\n",
    "df_3rm.dropna(inplace=True)\n",
    "df_3rm.floor_area_sqm.describe()\n",
    "#non-appreciable improvement in statistics"
   ]
  },
  {
   "cell_type": "code",
   "execution_count": 20,
   "id": "3db0d57e",
   "metadata": {
    "ExecuteTime": {
     "end_time": "2022-10-08T15:34:04.605603Z",
     "start_time": "2022-10-08T15:34:03.837987Z"
    }
   },
   "outputs": [],
   "source": [
    "df_common = df_common.where(~(df_common.flat_type==\"3 ROOM\") )\n",
    "df_common.dropna(inplace=True)\n",
    "df_common = pd.concat([df_common, df_3rm])"
   ]
  },
  {
   "cell_type": "code",
   "execution_count": 21,
   "id": "87504295",
   "metadata": {
    "ExecuteTime": {
     "end_time": "2022-10-08T15:34:04.636153Z",
     "start_time": "2022-10-08T15:34:04.607602Z"
    }
   },
   "outputs": [
    {
     "data": {
      "text/plain": [
       "TAMPINES           76126\n",
       "YISHUN             66257\n",
       "BEDOK              64040\n",
       "JURONG WEST        63493\n",
       "WOODLANDS          61868\n",
       "ANG MO KIO         49784\n",
       "HOUGANG            48104\n",
       "BUKIT BATOK        41929\n",
       "CHOA CHU KANG      36247\n",
       "BUKIT MERAH        32562\n",
       "PASIR RIS          31955\n",
       "TOA PAYOH          29701\n",
       "SENGKANG           29094\n",
       "QUEENSTOWN         27247\n",
       "GEYLANG            26984\n",
       "CLEMENTI           26720\n",
       "BUKIT PANJANG      26298\n",
       "KALLANG/WHAMPOA    24877\n",
       "JURONG EAST        23889\n",
       "SERANGOON          22051\n",
       "BISHAN             20327\n",
       "PUNGGOL            17129\n",
       "SEMBAWANG          12143\n",
       "MARINE PARADE       7736\n",
       "CENTRAL AREA        6189\n",
       "BUKIT TIMAH         2423\n",
       "LIM CHU KANG          63\n",
       "Name: town, dtype: int64"
      ]
     },
     "execution_count": 21,
     "metadata": {},
     "output_type": "execute_result"
    }
   ],
   "source": [
    "df_common.town.value_counts()"
   ]
  },
  {
   "cell_type": "code",
   "execution_count": 22,
   "id": "9832e2a6",
   "metadata": {
    "ExecuteTime": {
     "end_time": "2022-10-08T15:34:04.667980Z",
     "start_time": "2022-10-08T15:34:04.636755Z"
    }
   },
   "outputs": [
    {
     "data": {
      "text/plain": [
       "04 TO 06    221052\n",
       "07 TO 09    199392\n",
       "01 TO 03    177283\n",
       "10 TO 12    169325\n",
       "13 TO 15     57234\n",
       "16 TO 18     21843\n",
       "19 TO 21     10354\n",
       "22 TO 24      6698\n",
       "25 TO 27      2906\n",
       "01 TO 05      2688\n",
       "06 TO 10      2465\n",
       "11 TO 15      1257\n",
       "28 TO 30      1218\n",
       "31 TO 33       347\n",
       "34 TO 36       332\n",
       "37 TO 39       285\n",
       "16 TO 20       264\n",
       "40 TO 42       124\n",
       "21 TO 25        92\n",
       "26 TO 30        39\n",
       "43 TO 45        23\n",
       "36 TO 40         7\n",
       "46 TO 48         6\n",
       "31 TO 35         2\n",
       "Name: storey_range, dtype: int64"
      ]
     },
     "execution_count": 22,
     "metadata": {},
     "output_type": "execute_result"
    }
   ],
   "source": [
    "df_common.storey_range.value_counts()"
   ]
  },
  {
   "cell_type": "code",
   "execution_count": 23,
   "id": "65008a34",
   "metadata": {
    "ExecuteTime": {
     "end_time": "2022-10-08T15:34:04.683815Z",
     "start_time": "2022-10-08T15:34:04.668815Z"
    }
   },
   "outputs": [
    {
     "data": {
      "text/html": [
       "<div>\n",
       "<style scoped>\n",
       "    .dataframe tbody tr th:only-of-type {\n",
       "        vertical-align: middle;\n",
       "    }\n",
       "\n",
       "    .dataframe tbody tr th {\n",
       "        vertical-align: top;\n",
       "    }\n",
       "\n",
       "    .dataframe thead th {\n",
       "        text-align: right;\n",
       "    }\n",
       "</style>\n",
       "<table border=\"1\" class=\"dataframe\">\n",
       "  <thead>\n",
       "    <tr style=\"text-align: right;\">\n",
       "      <th></th>\n",
       "      <th>month</th>\n",
       "      <th>town</th>\n",
       "      <th>flat_type</th>\n",
       "      <th>block</th>\n",
       "      <th>street_name</th>\n",
       "      <th>storey_range</th>\n",
       "      <th>floor_area_sqm</th>\n",
       "      <th>flat_model</th>\n",
       "      <th>lease_commence_date</th>\n",
       "      <th>resale_price</th>\n",
       "      <th>address</th>\n",
       "    </tr>\n",
       "  </thead>\n",
       "  <tbody>\n",
       "    <tr>\n",
       "      <th>0</th>\n",
       "      <td>1990-01</td>\n",
       "      <td>ANG MO KIO</td>\n",
       "      <td>1 ROOM</td>\n",
       "      <td>309</td>\n",
       "      <td>ANG MO KIO AVE 1</td>\n",
       "      <td>10 TO 12</td>\n",
       "      <td>31.0</td>\n",
       "      <td>IMPROVED</td>\n",
       "      <td>1977.0</td>\n",
       "      <td>9000.0</td>\n",
       "      <td>309 ANG MO KIO AVE 1</td>\n",
       "    </tr>\n",
       "    <tr>\n",
       "      <th>1</th>\n",
       "      <td>1990-01</td>\n",
       "      <td>ANG MO KIO</td>\n",
       "      <td>1 ROOM</td>\n",
       "      <td>309</td>\n",
       "      <td>ANG MO KIO AVE 1</td>\n",
       "      <td>04 TO 06</td>\n",
       "      <td>31.0</td>\n",
       "      <td>IMPROVED</td>\n",
       "      <td>1977.0</td>\n",
       "      <td>6000.0</td>\n",
       "      <td>309 ANG MO KIO AVE 1</td>\n",
       "    </tr>\n",
       "    <tr>\n",
       "      <th>2</th>\n",
       "      <td>1990-01</td>\n",
       "      <td>ANG MO KIO</td>\n",
       "      <td>1 ROOM</td>\n",
       "      <td>309</td>\n",
       "      <td>ANG MO KIO AVE 1</td>\n",
       "      <td>10 TO 12</td>\n",
       "      <td>31.0</td>\n",
       "      <td>IMPROVED</td>\n",
       "      <td>1977.0</td>\n",
       "      <td>8000.0</td>\n",
       "      <td>309 ANG MO KIO AVE 1</td>\n",
       "    </tr>\n",
       "    <tr>\n",
       "      <th>3</th>\n",
       "      <td>1990-01</td>\n",
       "      <td>ANG MO KIO</td>\n",
       "      <td>1 ROOM</td>\n",
       "      <td>309</td>\n",
       "      <td>ANG MO KIO AVE 1</td>\n",
       "      <td>07 TO 09</td>\n",
       "      <td>31.0</td>\n",
       "      <td>IMPROVED</td>\n",
       "      <td>1977.0</td>\n",
       "      <td>6000.0</td>\n",
       "      <td>309 ANG MO KIO AVE 1</td>\n",
       "    </tr>\n",
       "    <tr>\n",
       "      <th>104</th>\n",
       "      <td>1990-01</td>\n",
       "      <td>ANG MO KIO</td>\n",
       "      <td>4 ROOM</td>\n",
       "      <td>211</td>\n",
       "      <td>ANG MO KIO AVE 3</td>\n",
       "      <td>04 TO 06</td>\n",
       "      <td>81.0</td>\n",
       "      <td>NEW GENERATION</td>\n",
       "      <td>1977.0</td>\n",
       "      <td>80000.0</td>\n",
       "      <td>211 ANG MO KIO AVE 3</td>\n",
       "    </tr>\n",
       "  </tbody>\n",
       "</table>\n",
       "</div>"
      ],
      "text/plain": [
       "       month        town flat_type block       street_name storey_range  \\\n",
       "0    1990-01  ANG MO KIO    1 ROOM   309  ANG MO KIO AVE 1     10 TO 12   \n",
       "1    1990-01  ANG MO KIO    1 ROOM   309  ANG MO KIO AVE 1     04 TO 06   \n",
       "2    1990-01  ANG MO KIO    1 ROOM   309  ANG MO KIO AVE 1     10 TO 12   \n",
       "3    1990-01  ANG MO KIO    1 ROOM   309  ANG MO KIO AVE 1     07 TO 09   \n",
       "104  1990-01  ANG MO KIO    4 ROOM   211  ANG MO KIO AVE 3     04 TO 06   \n",
       "\n",
       "     floor_area_sqm      flat_model  lease_commence_date  resale_price  \\\n",
       "0              31.0        IMPROVED               1977.0        9000.0   \n",
       "1              31.0        IMPROVED               1977.0        6000.0   \n",
       "2              31.0        IMPROVED               1977.0        8000.0   \n",
       "3              31.0        IMPROVED               1977.0        6000.0   \n",
       "104            81.0  NEW GENERATION               1977.0       80000.0   \n",
       "\n",
       "                  address  \n",
       "0    309 ANG MO KIO AVE 1  \n",
       "1    309 ANG MO KIO AVE 1  \n",
       "2    309 ANG MO KIO AVE 1  \n",
       "3    309 ANG MO KIO AVE 1  \n",
       "104  211 ANG MO KIO AVE 3  "
      ]
     },
     "execution_count": 23,
     "metadata": {},
     "output_type": "execute_result"
    }
   ],
   "source": [
    "df_common.head()"
   ]
  },
  {
   "cell_type": "code",
   "execution_count": 24,
   "id": "5e9ee6d1",
   "metadata": {
    "ExecuteTime": {
     "end_time": "2022-10-08T15:34:04.997611Z",
     "start_time": "2022-10-08T15:34:04.684816Z"
    }
   },
   "outputs": [
    {
     "name": "stdout",
     "output_type": "stream",
     "text": [
      "[1990 1991 1992 1993 1994 1995 1996 1997 1998 1999 2000 2001 2002 2003\n",
      " 2004 2005 2006 2007 2008 2009 2010 2011 2012 2015 2016 2017 2018 2019\n",
      " 2020 2021 2022 2013 2014]\n"
     ]
    },
    {
     "data": {
      "text/plain": [
       "array([ 1,  2,  3,  4,  5,  6,  7,  8,  9, 10, 11, 12])"
      ]
     },
     "execution_count": 24,
     "metadata": {},
     "output_type": "execute_result"
    }
   ],
   "source": [
    "#break 'month' into year and month\n",
    "df_common['year_sold'] = df_common['month'].str[0:4].astype(int)\n",
    "df_common['mth_sold'] = df_common['month'].str[5:].astype(int)\n",
    "#check unique values\n",
    "print(df_common.year_sold.unique())\n",
    "df_common.mth_sold.unique()"
   ]
  },
  {
   "cell_type": "code",
   "execution_count": 25,
   "id": "5859a4a0",
   "metadata": {
    "ExecuteTime": {
     "end_time": "2022-10-08T15:34:05.013373Z",
     "start_time": "2022-10-08T15:34:04.998598Z"
    }
   },
   "outputs": [],
   "source": [
    "#create age column\n",
    "df_common['age_sold'] = df_common['year_sold'] - df_common['lease_commence_date']"
   ]
  },
  {
   "cell_type": "code",
   "execution_count": 26,
   "id": "e7daa4cf",
   "metadata": {
    "ExecuteTime": {
     "end_time": "2022-10-08T15:34:05.183536Z",
     "start_time": "2022-10-08T15:34:05.015360Z"
    }
   },
   "outputs": [
    {
     "data": {
      "text/html": [
       "<div>\n",
       "<style scoped>\n",
       "    .dataframe tbody tr th:only-of-type {\n",
       "        vertical-align: middle;\n",
       "    }\n",
       "\n",
       "    .dataframe tbody tr th {\n",
       "        vertical-align: top;\n",
       "    }\n",
       "\n",
       "    .dataframe thead th {\n",
       "        text-align: right;\n",
       "    }\n",
       "</style>\n",
       "<table border=\"1\" class=\"dataframe\">\n",
       "  <thead>\n",
       "    <tr style=\"text-align: right;\">\n",
       "      <th></th>\n",
       "      <th>town</th>\n",
       "      <th>flat_type</th>\n",
       "      <th>block</th>\n",
       "      <th>street_name</th>\n",
       "      <th>storey_range</th>\n",
       "      <th>floor_area_sqm</th>\n",
       "      <th>flat_model</th>\n",
       "      <th>resale_price</th>\n",
       "      <th>year_sold</th>\n",
       "      <th>mth_sold</th>\n",
       "      <th>age_sold</th>\n",
       "    </tr>\n",
       "  </thead>\n",
       "  <tbody>\n",
       "    <tr>\n",
       "      <th>0</th>\n",
       "      <td>ANG MO KIO</td>\n",
       "      <td>1 ROOM</td>\n",
       "      <td>309</td>\n",
       "      <td>ANG MO KIO AVE 1</td>\n",
       "      <td>10 TO 12</td>\n",
       "      <td>31.0</td>\n",
       "      <td>IMPROVED</td>\n",
       "      <td>9000.0</td>\n",
       "      <td>1990</td>\n",
       "      <td>1</td>\n",
       "      <td>13.0</td>\n",
       "    </tr>\n",
       "    <tr>\n",
       "      <th>1</th>\n",
       "      <td>ANG MO KIO</td>\n",
       "      <td>1 ROOM</td>\n",
       "      <td>309</td>\n",
       "      <td>ANG MO KIO AVE 1</td>\n",
       "      <td>04 TO 06</td>\n",
       "      <td>31.0</td>\n",
       "      <td>IMPROVED</td>\n",
       "      <td>6000.0</td>\n",
       "      <td>1990</td>\n",
       "      <td>1</td>\n",
       "      <td>13.0</td>\n",
       "    </tr>\n",
       "    <tr>\n",
       "      <th>2</th>\n",
       "      <td>ANG MO KIO</td>\n",
       "      <td>1 ROOM</td>\n",
       "      <td>309</td>\n",
       "      <td>ANG MO KIO AVE 1</td>\n",
       "      <td>10 TO 12</td>\n",
       "      <td>31.0</td>\n",
       "      <td>IMPROVED</td>\n",
       "      <td>8000.0</td>\n",
       "      <td>1990</td>\n",
       "      <td>1</td>\n",
       "      <td>13.0</td>\n",
       "    </tr>\n",
       "    <tr>\n",
       "      <th>3</th>\n",
       "      <td>ANG MO KIO</td>\n",
       "      <td>1 ROOM</td>\n",
       "      <td>309</td>\n",
       "      <td>ANG MO KIO AVE 1</td>\n",
       "      <td>07 TO 09</td>\n",
       "      <td>31.0</td>\n",
       "      <td>IMPROVED</td>\n",
       "      <td>6000.0</td>\n",
       "      <td>1990</td>\n",
       "      <td>1</td>\n",
       "      <td>13.0</td>\n",
       "    </tr>\n",
       "    <tr>\n",
       "      <th>104</th>\n",
       "      <td>ANG MO KIO</td>\n",
       "      <td>4 ROOM</td>\n",
       "      <td>211</td>\n",
       "      <td>ANG MO KIO AVE 3</td>\n",
       "      <td>04 TO 06</td>\n",
       "      <td>81.0</td>\n",
       "      <td>NEW GENERATION</td>\n",
       "      <td>80000.0</td>\n",
       "      <td>1990</td>\n",
       "      <td>1</td>\n",
       "      <td>13.0</td>\n",
       "    </tr>\n",
       "  </tbody>\n",
       "</table>\n",
       "</div>"
      ],
      "text/plain": [
       "           town flat_type block       street_name storey_range  \\\n",
       "0    ANG MO KIO    1 ROOM   309  ANG MO KIO AVE 1     10 TO 12   \n",
       "1    ANG MO KIO    1 ROOM   309  ANG MO KIO AVE 1     04 TO 06   \n",
       "2    ANG MO KIO    1 ROOM   309  ANG MO KIO AVE 1     10 TO 12   \n",
       "3    ANG MO KIO    1 ROOM   309  ANG MO KIO AVE 1     07 TO 09   \n",
       "104  ANG MO KIO    4 ROOM   211  ANG MO KIO AVE 3     04 TO 06   \n",
       "\n",
       "     floor_area_sqm      flat_model  resale_price  year_sold  mth_sold  \\\n",
       "0              31.0        IMPROVED        9000.0       1990         1   \n",
       "1              31.0        IMPROVED        6000.0       1990         1   \n",
       "2              31.0        IMPROVED        8000.0       1990         1   \n",
       "3              31.0        IMPROVED        6000.0       1990         1   \n",
       "104            81.0  NEW GENERATION       80000.0       1990         1   \n",
       "\n",
       "     age_sold  \n",
       "0        13.0  \n",
       "1        13.0  \n",
       "2        13.0  \n",
       "3        13.0  \n",
       "104      13.0  "
      ]
     },
     "execution_count": 26,
     "metadata": {},
     "output_type": "execute_result"
    }
   ],
   "source": [
    "#cleanup unnecessary columns\n",
    "df_common.drop(['month', 'address', 'lease_commence_date'], axis=1, inplace=True)\n",
    "df_common.head()\n",
    "#not examining resale_price for outliers due to inflation and extraneous factors"
   ]
  },
  {
   "cell_type": "code",
   "execution_count": 27,
   "id": "24980746",
   "metadata": {
    "ExecuteTime": {
     "end_time": "2022-10-08T15:34:05.261360Z",
     "start_time": "2022-10-08T15:34:05.184513Z"
    }
   },
   "outputs": [
    {
     "data": {
      "text/html": [
       "<div>\n",
       "<style scoped>\n",
       "    .dataframe tbody tr th:only-of-type {\n",
       "        vertical-align: middle;\n",
       "    }\n",
       "\n",
       "    .dataframe tbody tr th {\n",
       "        vertical-align: top;\n",
       "    }\n",
       "\n",
       "    .dataframe thead th {\n",
       "        text-align: right;\n",
       "    }\n",
       "</style>\n",
       "<table border=\"1\" class=\"dataframe\">\n",
       "  <thead>\n",
       "    <tr style=\"text-align: right;\">\n",
       "      <th></th>\n",
       "      <th>floor_area_sqm</th>\n",
       "      <th>resale_price</th>\n",
       "      <th>year_sold</th>\n",
       "      <th>mth_sold</th>\n",
       "      <th>age_sold</th>\n",
       "    </tr>\n",
       "  </thead>\n",
       "  <tbody>\n",
       "    <tr>\n",
       "      <th>floor_area_sqm</th>\n",
       "      <td>1.000000</td>\n",
       "      <td>0.604089</td>\n",
       "      <td>0.071747</td>\n",
       "      <td>0.002949</td>\n",
       "      <td>-0.360678</td>\n",
       "    </tr>\n",
       "    <tr>\n",
       "      <th>resale_price</th>\n",
       "      <td>0.604089</td>\n",
       "      <td>1.000000</td>\n",
       "      <td>0.642375</td>\n",
       "      <td>0.015474</td>\n",
       "      <td>0.037792</td>\n",
       "    </tr>\n",
       "    <tr>\n",
       "      <th>year_sold</th>\n",
       "      <td>0.071747</td>\n",
       "      <td>0.642375</td>\n",
       "      <td>1.000000</td>\n",
       "      <td>-0.015675</td>\n",
       "      <td>0.450838</td>\n",
       "    </tr>\n",
       "    <tr>\n",
       "      <th>mth_sold</th>\n",
       "      <td>0.002949</td>\n",
       "      <td>0.015474</td>\n",
       "      <td>-0.015675</td>\n",
       "      <td>1.000000</td>\n",
       "      <td>-0.022721</td>\n",
       "    </tr>\n",
       "    <tr>\n",
       "      <th>age_sold</th>\n",
       "      <td>-0.360678</td>\n",
       "      <td>0.037792</td>\n",
       "      <td>0.450838</td>\n",
       "      <td>-0.022721</td>\n",
       "      <td>1.000000</td>\n",
       "    </tr>\n",
       "  </tbody>\n",
       "</table>\n",
       "</div>"
      ],
      "text/plain": [
       "                floor_area_sqm  resale_price  year_sold  mth_sold  age_sold\n",
       "floor_area_sqm        1.000000      0.604089   0.071747  0.002949 -0.360678\n",
       "resale_price          0.604089      1.000000   0.642375  0.015474  0.037792\n",
       "year_sold             0.071747      0.642375   1.000000 -0.015675  0.450838\n",
       "mth_sold              0.002949      0.015474  -0.015675  1.000000 -0.022721\n",
       "age_sold             -0.360678      0.037792   0.450838 -0.022721  1.000000"
      ]
     },
     "execution_count": 27,
     "metadata": {},
     "output_type": "execute_result"
    }
   ],
   "source": [
    "df_common.corr()"
   ]
  },
  {
   "cell_type": "code",
   "execution_count": 28,
   "id": "2ebd241f",
   "metadata": {
    "ExecuteTime": {
     "end_time": "2022-10-08T15:34:05.681290Z",
     "start_time": "2022-10-08T15:34:05.263352Z"
    }
   },
   "outputs": [
    {
     "data": {
      "text/html": [
       "<div>\n",
       "<style scoped>\n",
       "    .dataframe tbody tr th:only-of-type {\n",
       "        vertical-align: middle;\n",
       "    }\n",
       "\n",
       "    .dataframe tbody tr th {\n",
       "        vertical-align: top;\n",
       "    }\n",
       "\n",
       "    .dataframe thead th {\n",
       "        text-align: right;\n",
       "    }\n",
       "</style>\n",
       "<table border=\"1\" class=\"dataframe\">\n",
       "  <thead>\n",
       "    <tr style=\"text-align: right;\">\n",
       "      <th></th>\n",
       "      <th>floor_area_sqm</th>\n",
       "      <th>resale_price</th>\n",
       "      <th>year_sold</th>\n",
       "      <th>mth_sold</th>\n",
       "      <th>age_sold</th>\n",
       "    </tr>\n",
       "  </thead>\n",
       "  <tbody>\n",
       "    <tr>\n",
       "      <th>floor_area_sqm</th>\n",
       "      <td>1.000000</td>\n",
       "      <td>0.766909</td>\n",
       "      <td>0.335743</td>\n",
       "      <td>0.000792</td>\n",
       "      <td>-0.252579</td>\n",
       "    </tr>\n",
       "    <tr>\n",
       "      <th>resale_price</th>\n",
       "      <td>0.766909</td>\n",
       "      <td>1.000000</td>\n",
       "      <td>0.655137</td>\n",
       "      <td>0.029434</td>\n",
       "      <td>0.059075</td>\n",
       "    </tr>\n",
       "    <tr>\n",
       "      <th>year_sold</th>\n",
       "      <td>0.335743</td>\n",
       "      <td>0.655137</td>\n",
       "      <td>1.000000</td>\n",
       "      <td>-0.000600</td>\n",
       "      <td>0.314233</td>\n",
       "    </tr>\n",
       "    <tr>\n",
       "      <th>mth_sold</th>\n",
       "      <td>0.000792</td>\n",
       "      <td>0.029434</td>\n",
       "      <td>-0.000600</td>\n",
       "      <td>1.000000</td>\n",
       "      <td>0.002393</td>\n",
       "    </tr>\n",
       "    <tr>\n",
       "      <th>age_sold</th>\n",
       "      <td>-0.252579</td>\n",
       "      <td>0.059075</td>\n",
       "      <td>0.314233</td>\n",
       "      <td>0.002393</td>\n",
       "      <td>1.000000</td>\n",
       "    </tr>\n",
       "  </tbody>\n",
       "</table>\n",
       "</div>"
      ],
      "text/plain": [
       "                floor_area_sqm  resale_price  year_sold  mth_sold  age_sold\n",
       "floor_area_sqm        1.000000      0.766909   0.335743  0.000792 -0.252579\n",
       "resale_price          0.766909      1.000000   0.655137  0.029434  0.059075\n",
       "year_sold             0.335743      0.655137   1.000000 -0.000600  0.314233\n",
       "mth_sold              0.000792      0.029434  -0.000600  1.000000  0.002393\n",
       "age_sold             -0.252579      0.059075   0.314233  0.002393  1.000000"
      ]
     },
     "execution_count": 28,
     "metadata": {},
     "output_type": "execute_result"
    }
   ],
   "source": [
    "\"\"\"\n",
    "In March 2017, then-Minister for National Development, Lawrence Wong,\n",
    "saw fit to respond to the phenomenon of aging, short-lease HDB flats \n",
    "being sold at high prices, as reported in Lianhe Zaobao.\n",
    "2018 rally - LHL addressed issue of expiring leases of HDBS.\n",
    "\"\"\"\n",
    "df_new = df_common.where((df_common.year_sold<=2016) & (df_common.age_sold>30.0))\n",
    "df_new.dropna(inplace=True)\n",
    "df_new.corr()\n",
    "#age becomes negative correlation"
   ]
  },
  {
   "cell_type": "code",
   "execution_count": 29,
   "id": "780f0f27",
   "metadata": {
    "ExecuteTime": {
     "end_time": "2022-10-08T15:34:06.100955Z",
     "start_time": "2022-10-08T15:34:05.682291Z"
    }
   },
   "outputs": [
    {
     "data": {
      "text/html": [
       "<div>\n",
       "<style scoped>\n",
       "    .dataframe tbody tr th:only-of-type {\n",
       "        vertical-align: middle;\n",
       "    }\n",
       "\n",
       "    .dataframe tbody tr th {\n",
       "        vertical-align: top;\n",
       "    }\n",
       "\n",
       "    .dataframe thead th {\n",
       "        text-align: right;\n",
       "    }\n",
       "</style>\n",
       "<table border=\"1\" class=\"dataframe\">\n",
       "  <thead>\n",
       "    <tr style=\"text-align: right;\">\n",
       "      <th></th>\n",
       "      <th>floor_area_sqm</th>\n",
       "      <th>resale_price</th>\n",
       "      <th>year_sold</th>\n",
       "      <th>mth_sold</th>\n",
       "      <th>age_sold</th>\n",
       "    </tr>\n",
       "  </thead>\n",
       "  <tbody>\n",
       "    <tr>\n",
       "      <th>floor_area_sqm</th>\n",
       "      <td>1.000000</td>\n",
       "      <td>0.815663</td>\n",
       "      <td>NaN</td>\n",
       "      <td>-0.010381</td>\n",
       "      <td>-0.392902</td>\n",
       "    </tr>\n",
       "    <tr>\n",
       "      <th>resale_price</th>\n",
       "      <td>0.815663</td>\n",
       "      <td>1.000000</td>\n",
       "      <td>NaN</td>\n",
       "      <td>-0.010367</td>\n",
       "      <td>-0.165694</td>\n",
       "    </tr>\n",
       "    <tr>\n",
       "      <th>year_sold</th>\n",
       "      <td>NaN</td>\n",
       "      <td>NaN</td>\n",
       "      <td>NaN</td>\n",
       "      <td>NaN</td>\n",
       "      <td>NaN</td>\n",
       "    </tr>\n",
       "    <tr>\n",
       "      <th>mth_sold</th>\n",
       "      <td>-0.010381</td>\n",
       "      <td>-0.010367</td>\n",
       "      <td>NaN</td>\n",
       "      <td>1.000000</td>\n",
       "      <td>0.011318</td>\n",
       "    </tr>\n",
       "    <tr>\n",
       "      <th>age_sold</th>\n",
       "      <td>-0.392902</td>\n",
       "      <td>-0.165694</td>\n",
       "      <td>NaN</td>\n",
       "      <td>0.011318</td>\n",
       "      <td>1.000000</td>\n",
       "    </tr>\n",
       "  </tbody>\n",
       "</table>\n",
       "</div>"
      ],
      "text/plain": [
       "                floor_area_sqm  resale_price  year_sold  mth_sold  age_sold\n",
       "floor_area_sqm        1.000000      0.815663        NaN -0.010381 -0.392902\n",
       "resale_price          0.815663      1.000000        NaN -0.010367 -0.165694\n",
       "year_sold                  NaN           NaN        NaN       NaN       NaN\n",
       "mth_sold             -0.010381     -0.010367        NaN  1.000000  0.011318\n",
       "age_sold             -0.392902     -0.165694        NaN  0.011318  1.000000"
      ]
     },
     "execution_count": 29,
     "metadata": {},
     "output_type": "execute_result"
    }
   ],
   "source": [
    "df_new = df_common.where((df_common.year_sold==2016) & (df_common.age_sold>30.0))\n",
    "df_new.dropna(inplace=True)\n",
    "df_new.corr()"
   ]
  },
  {
   "cell_type": "code",
   "execution_count": 30,
   "id": "cafa9ba2",
   "metadata": {
    "ExecuteTime": {
     "end_time": "2022-10-08T15:34:06.523433Z",
     "start_time": "2022-10-08T15:34:06.102973Z"
    }
   },
   "outputs": [
    {
     "data": {
      "text/html": [
       "<div>\n",
       "<style scoped>\n",
       "    .dataframe tbody tr th:only-of-type {\n",
       "        vertical-align: middle;\n",
       "    }\n",
       "\n",
       "    .dataframe tbody tr th {\n",
       "        vertical-align: top;\n",
       "    }\n",
       "\n",
       "    .dataframe thead th {\n",
       "        text-align: right;\n",
       "    }\n",
       "</style>\n",
       "<table border=\"1\" class=\"dataframe\">\n",
       "  <thead>\n",
       "    <tr style=\"text-align: right;\">\n",
       "      <th></th>\n",
       "      <th>floor_area_sqm</th>\n",
       "      <th>resale_price</th>\n",
       "      <th>year_sold</th>\n",
       "      <th>mth_sold</th>\n",
       "      <th>age_sold</th>\n",
       "    </tr>\n",
       "  </thead>\n",
       "  <tbody>\n",
       "    <tr>\n",
       "      <th>floor_area_sqm</th>\n",
       "      <td>1.000000</td>\n",
       "      <td>0.823611</td>\n",
       "      <td>0.062432</td>\n",
       "      <td>-0.004594</td>\n",
       "      <td>-0.441178</td>\n",
       "    </tr>\n",
       "    <tr>\n",
       "      <th>resale_price</th>\n",
       "      <td>0.823611</td>\n",
       "      <td>1.000000</td>\n",
       "      <td>0.225199</td>\n",
       "      <td>-0.001544</td>\n",
       "      <td>-0.259719</td>\n",
       "    </tr>\n",
       "    <tr>\n",
       "      <th>year_sold</th>\n",
       "      <td>0.062432</td>\n",
       "      <td>0.225199</td>\n",
       "      <td>1.000000</td>\n",
       "      <td>-0.142917</td>\n",
       "      <td>0.185778</td>\n",
       "    </tr>\n",
       "    <tr>\n",
       "      <th>mth_sold</th>\n",
       "      <td>-0.004594</td>\n",
       "      <td>-0.001544</td>\n",
       "      <td>-0.142917</td>\n",
       "      <td>1.000000</td>\n",
       "      <td>-0.022549</td>\n",
       "    </tr>\n",
       "    <tr>\n",
       "      <th>age_sold</th>\n",
       "      <td>-0.441178</td>\n",
       "      <td>-0.259719</td>\n",
       "      <td>0.185778</td>\n",
       "      <td>-0.022549</td>\n",
       "      <td>1.000000</td>\n",
       "    </tr>\n",
       "  </tbody>\n",
       "</table>\n",
       "</div>"
      ],
      "text/plain": [
       "                floor_area_sqm  resale_price  year_sold  mth_sold  age_sold\n",
       "floor_area_sqm        1.000000      0.823611   0.062432 -0.004594 -0.441178\n",
       "resale_price          0.823611      1.000000   0.225199 -0.001544 -0.259719\n",
       "year_sold             0.062432      0.225199   1.000000 -0.142917  0.185778\n",
       "mth_sold             -0.004594     -0.001544  -0.142917  1.000000 -0.022549\n",
       "age_sold             -0.441178     -0.259719   0.185778 -0.022549  1.000000"
      ]
     },
     "execution_count": 30,
     "metadata": {},
     "output_type": "execute_result"
    }
   ],
   "source": [
    "df_new = df_common.where((df_common.year_sold>2017) & (df_common.age_sold>30.0))\n",
    "df_new.dropna(inplace=True)\n",
    "df_new.corr()\n",
    "#effect of ageing HDBs becomes more pronounced"
   ]
  },
  {
   "cell_type": "code",
   "execution_count": 31,
   "id": "6c75ec7b",
   "metadata": {
    "ExecuteTime": {
     "end_time": "2022-10-08T15:34:08.868161Z",
     "start_time": "2022-10-08T15:34:06.524433Z"
    }
   },
   "outputs": [],
   "source": [
    "#save file\n",
    "df_common.to_csv(\"data/resale-flat-prices/cleaned_prices.csv\", index=False)"
   ]
  }
 ],
 "metadata": {
  "kernelspec": {
   "display_name": "Python 3 (ipykernel)",
   "language": "python",
   "name": "python3"
  },
  "language_info": {
   "codemirror_mode": {
    "name": "ipython",
    "version": 3
   },
   "file_extension": ".py",
   "mimetype": "text/x-python",
   "name": "python",
   "nbconvert_exporter": "python",
   "pygments_lexer": "ipython3",
   "version": "3.10.4"
  },
  "toc": {
   "base_numbering": 1,
   "nav_menu": {},
   "number_sections": true,
   "sideBar": true,
   "skip_h1_title": false,
   "title_cell": "Table of Contents",
   "title_sidebar": "Contents",
   "toc_cell": false,
   "toc_position": {},
   "toc_section_display": true,
   "toc_window_display": false
  }
 },
 "nbformat": 4,
 "nbformat_minor": 5
}
