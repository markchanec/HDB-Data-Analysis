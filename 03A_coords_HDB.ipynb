{
 "cells": [
  {
   "cell_type": "code",
   "execution_count": 1,
   "id": "cd275b0f",
   "metadata": {
    "ExecuteTime": {
     "end_time": "2022-10-07T10:55:39.102235Z",
     "start_time": "2022-10-07T10:55:38.209578Z"
    }
   },
   "outputs": [
    {
     "data": {
      "text/html": [
       "<div>\n",
       "<style scoped>\n",
       "    .dataframe tbody tr th:only-of-type {\n",
       "        vertical-align: middle;\n",
       "    }\n",
       "\n",
       "    .dataframe tbody tr th {\n",
       "        vertical-align: top;\n",
       "    }\n",
       "\n",
       "    .dataframe thead th {\n",
       "        text-align: right;\n",
       "    }\n",
       "</style>\n",
       "<table border=\"1\" class=\"dataframe\">\n",
       "  <thead>\n",
       "    <tr style=\"text-align: right;\">\n",
       "      <th></th>\n",
       "      <th>town</th>\n",
       "      <th>flat_type</th>\n",
       "      <th>block</th>\n",
       "      <th>street_name</th>\n",
       "      <th>storey_range</th>\n",
       "      <th>floor_area_sqm</th>\n",
       "      <th>flat_model</th>\n",
       "      <th>resale_price</th>\n",
       "      <th>year_sold</th>\n",
       "      <th>mth_sold</th>\n",
       "      <th>age_sold</th>\n",
       "    </tr>\n",
       "  </thead>\n",
       "  <tbody>\n",
       "    <tr>\n",
       "      <th>0</th>\n",
       "      <td>ANG MO KIO</td>\n",
       "      <td>1 ROOM</td>\n",
       "      <td>309</td>\n",
       "      <td>ANG MO KIO AVE 1</td>\n",
       "      <td>10 TO 12</td>\n",
       "      <td>31.0</td>\n",
       "      <td>IMPROVED</td>\n",
       "      <td>9000.0</td>\n",
       "      <td>1990</td>\n",
       "      <td>1</td>\n",
       "      <td>13.0</td>\n",
       "    </tr>\n",
       "    <tr>\n",
       "      <th>1</th>\n",
       "      <td>ANG MO KIO</td>\n",
       "      <td>1 ROOM</td>\n",
       "      <td>309</td>\n",
       "      <td>ANG MO KIO AVE 1</td>\n",
       "      <td>04 TO 06</td>\n",
       "      <td>31.0</td>\n",
       "      <td>IMPROVED</td>\n",
       "      <td>6000.0</td>\n",
       "      <td>1990</td>\n",
       "      <td>1</td>\n",
       "      <td>13.0</td>\n",
       "    </tr>\n",
       "    <tr>\n",
       "      <th>2</th>\n",
       "      <td>ANG MO KIO</td>\n",
       "      <td>1 ROOM</td>\n",
       "      <td>309</td>\n",
       "      <td>ANG MO KIO AVE 1</td>\n",
       "      <td>10 TO 12</td>\n",
       "      <td>31.0</td>\n",
       "      <td>IMPROVED</td>\n",
       "      <td>8000.0</td>\n",
       "      <td>1990</td>\n",
       "      <td>1</td>\n",
       "      <td>13.0</td>\n",
       "    </tr>\n",
       "    <tr>\n",
       "      <th>3</th>\n",
       "      <td>ANG MO KIO</td>\n",
       "      <td>1 ROOM</td>\n",
       "      <td>309</td>\n",
       "      <td>ANG MO KIO AVE 1</td>\n",
       "      <td>07 TO 09</td>\n",
       "      <td>31.0</td>\n",
       "      <td>IMPROVED</td>\n",
       "      <td>6000.0</td>\n",
       "      <td>1990</td>\n",
       "      <td>1</td>\n",
       "      <td>13.0</td>\n",
       "    </tr>\n",
       "    <tr>\n",
       "      <th>4</th>\n",
       "      <td>ANG MO KIO</td>\n",
       "      <td>4 ROOM</td>\n",
       "      <td>211</td>\n",
       "      <td>ANG MO KIO AVE 3</td>\n",
       "      <td>04 TO 06</td>\n",
       "      <td>81.0</td>\n",
       "      <td>NEW GENERATION</td>\n",
       "      <td>80000.0</td>\n",
       "      <td>1990</td>\n",
       "      <td>1</td>\n",
       "      <td>13.0</td>\n",
       "    </tr>\n",
       "  </tbody>\n",
       "</table>\n",
       "</div>"
      ],
      "text/plain": [
       "         town flat_type block       street_name storey_range  floor_area_sqm  \\\n",
       "0  ANG MO KIO    1 ROOM   309  ANG MO KIO AVE 1     10 TO 12            31.0   \n",
       "1  ANG MO KIO    1 ROOM   309  ANG MO KIO AVE 1     04 TO 06            31.0   \n",
       "2  ANG MO KIO    1 ROOM   309  ANG MO KIO AVE 1     10 TO 12            31.0   \n",
       "3  ANG MO KIO    1 ROOM   309  ANG MO KIO AVE 1     07 TO 09            31.0   \n",
       "4  ANG MO KIO    4 ROOM   211  ANG MO KIO AVE 3     04 TO 06            81.0   \n",
       "\n",
       "       flat_model  resale_price  year_sold  mth_sold  age_sold  \n",
       "0        IMPROVED        9000.0       1990         1      13.0  \n",
       "1        IMPROVED        6000.0       1990         1      13.0  \n",
       "2        IMPROVED        8000.0       1990         1      13.0  \n",
       "3        IMPROVED        6000.0       1990         1      13.0  \n",
       "4  NEW GENERATION       80000.0       1990         1      13.0  "
      ]
     },
     "execution_count": 1,
     "metadata": {},
     "output_type": "execute_result"
    }
   ],
   "source": [
    "import API_Call\n",
    "import pandas as pd\n",
    "pd.options.mode.chained_assignment = None\n",
    "import numpy as np\n",
    "\n",
    "df = pd.read_csv(\"data/resale-flat-prices/cleaned_prices.csv\")\n",
    "df.head()"
   ]
  },
  {
   "cell_type": "code",
   "execution_count": 2,
   "id": "044ef406",
   "metadata": {
    "ExecuteTime": {
     "end_time": "2022-10-07T10:55:39.538275Z",
     "start_time": "2022-10-07T10:55:39.103207Z"
    }
   },
   "outputs": [
    {
     "data": {
      "text/html": [
       "<div>\n",
       "<style scoped>\n",
       "    .dataframe tbody tr th:only-of-type {\n",
       "        vertical-align: middle;\n",
       "    }\n",
       "\n",
       "    .dataframe tbody tr th {\n",
       "        vertical-align: top;\n",
       "    }\n",
       "\n",
       "    .dataframe thead th {\n",
       "        text-align: right;\n",
       "    }\n",
       "</style>\n",
       "<table border=\"1\" class=\"dataframe\">\n",
       "  <thead>\n",
       "    <tr style=\"text-align: right;\">\n",
       "      <th></th>\n",
       "      <th>address</th>\n",
       "    </tr>\n",
       "  </thead>\n",
       "  <tbody>\n",
       "    <tr>\n",
       "      <th>0</th>\n",
       "      <td>309 ANG MO KIO AVE 1</td>\n",
       "    </tr>\n",
       "    <tr>\n",
       "      <th>1</th>\n",
       "      <td>211 ANG MO KIO AVE 3</td>\n",
       "    </tr>\n",
       "    <tr>\n",
       "      <th>2</th>\n",
       "      <td>209 ANG MO KIO AVE 3</td>\n",
       "    </tr>\n",
       "    <tr>\n",
       "      <th>3</th>\n",
       "      <td>231 ANG MO KIO AVE 3</td>\n",
       "    </tr>\n",
       "    <tr>\n",
       "      <th>4</th>\n",
       "      <td>308 ANG MO KIO AVE 1</td>\n",
       "    </tr>\n",
       "  </tbody>\n",
       "</table>\n",
       "</div>"
      ],
      "text/plain": [
       "                address\n",
       "0  309 ANG MO KIO AVE 1\n",
       "1  211 ANG MO KIO AVE 3\n",
       "2  209 ANG MO KIO AVE 3\n",
       "3  231 ANG MO KIO AVE 3\n",
       "4  308 ANG MO KIO AVE 1"
      ]
     },
     "execution_count": 2,
     "metadata": {},
     "output_type": "execute_result"
    }
   ],
   "source": [
    "df['block'] = df['block'].str.strip()\n",
    "df['street_name'] = df['street_name'].str.strip()\n",
    "\n",
    "df['address'] = df['block'] + ' ' + df['street_name']\n",
    "addresses = pd.DataFrame(df['address'])\n",
    "addresses.drop_duplicates(inplace=True)\n",
    "addresses.reset_index(drop=True, inplace=True)\n",
    "addresses.head()"
   ]
  },
  {
   "cell_type": "code",
   "execution_count": 3,
   "id": "1af16fac",
   "metadata": {
    "ExecuteTime": {
     "end_time": "2022-10-07T10:55:39.554393Z",
     "start_time": "2022-10-07T10:55:39.539273Z"
    }
   },
   "outputs": [
    {
     "data": {
      "text/plain": [
       "9502"
      ]
     },
     "execution_count": 3,
     "metadata": {},
     "output_type": "execute_result"
    }
   ],
   "source": [
    "len(addresses)"
   ]
  },
  {
   "cell_type": "code",
   "execution_count": 4,
   "id": "befa1fcc",
   "metadata": {
    "ExecuteTime": {
     "end_time": "2022-10-07T11:09:17.558494Z",
     "start_time": "2022-10-07T10:55:39.556272Z"
    }
   },
   "outputs": [
    {
     "name": "stdout",
     "output_type": "stream",
     "text": [
      "Processing 9501 record\r"
     ]
    }
   ],
   "source": [
    "#default latitude/longitude\n",
    "addresses['lat'] = np.nan\n",
    "addresses['long'] = np.nan\n",
    "\n",
    "API_Call.process_df(addresses, \"address\")"
   ]
  },
  {
   "cell_type": "code",
   "execution_count": 5,
   "id": "594fba5a",
   "metadata": {
    "ExecuteTime": {
     "end_time": "2022-10-07T11:09:17.574519Z",
     "start_time": "2022-10-07T11:09:17.559839Z"
    }
   },
   "outputs": [
    {
     "data": {
      "text/plain": [
       "address      0\n",
       "lat        117\n",
       "long       117\n",
       "dtype: int64"
      ]
     },
     "execution_count": 5,
     "metadata": {},
     "output_type": "execute_result"
    }
   ],
   "source": [
    "#check any invalid address/request\n",
    "addresses.isna().sum()"
   ]
  },
  {
   "cell_type": "code",
   "execution_count": 6,
   "id": "96b12fb9",
   "metadata": {
    "ExecuteTime": {
     "end_time": "2022-10-07T11:09:17.589892Z",
     "start_time": "2022-10-07T11:09:17.575519Z"
    }
   },
   "outputs": [
    {
     "data": {
      "text/html": [
       "<div>\n",
       "<style scoped>\n",
       "    .dataframe tbody tr th:only-of-type {\n",
       "        vertical-align: middle;\n",
       "    }\n",
       "\n",
       "    .dataframe tbody tr th {\n",
       "        vertical-align: top;\n",
       "    }\n",
       "\n",
       "    .dataframe thead th {\n",
       "        text-align: right;\n",
       "    }\n",
       "</style>\n",
       "<table border=\"1\" class=\"dataframe\">\n",
       "  <thead>\n",
       "    <tr style=\"text-align: right;\">\n",
       "      <th></th>\n",
       "      <th>address</th>\n",
       "      <th>lat</th>\n",
       "      <th>long</th>\n",
       "    </tr>\n",
       "  </thead>\n",
       "  <tbody>\n",
       "    <tr>\n",
       "      <th>0</th>\n",
       "      <td>309 ANG MO KIO AVE 1</td>\n",
       "      <td>NaN</td>\n",
       "      <td>NaN</td>\n",
       "    </tr>\n",
       "    <tr>\n",
       "      <th>127</th>\n",
       "      <td>4 HILLVIEW AVE</td>\n",
       "      <td>NaN</td>\n",
       "      <td>NaN</td>\n",
       "    </tr>\n",
       "    <tr>\n",
       "      <th>145</th>\n",
       "      <td>33 TAMAN HO SWEE</td>\n",
       "      <td>NaN</td>\n",
       "      <td>NaN</td>\n",
       "    </tr>\n",
       "    <tr>\n",
       "      <th>151</th>\n",
       "      <td>111 BT MERAH VIEW</td>\n",
       "      <td>NaN</td>\n",
       "      <td>NaN</td>\n",
       "    </tr>\n",
       "    <tr>\n",
       "      <th>173</th>\n",
       "      <td>22 OUTRAM PK</td>\n",
       "      <td>NaN</td>\n",
       "      <td>NaN</td>\n",
       "    </tr>\n",
       "    <tr>\n",
       "      <th>...</th>\n",
       "      <td>...</td>\n",
       "      <td>...</td>\n",
       "      <td>...</td>\n",
       "    </tr>\n",
       "    <tr>\n",
       "      <th>9234</th>\n",
       "      <td>51 TANGLIN HALT RD</td>\n",
       "      <td>NaN</td>\n",
       "      <td>NaN</td>\n",
       "    </tr>\n",
       "    <tr>\n",
       "      <th>9254</th>\n",
       "      <td>89 ZION RD</td>\n",
       "      <td>NaN</td>\n",
       "      <td>NaN</td>\n",
       "    </tr>\n",
       "    <tr>\n",
       "      <th>9280</th>\n",
       "      <td>137 ALEXANDRA RD</td>\n",
       "      <td>NaN</td>\n",
       "      <td>NaN</td>\n",
       "    </tr>\n",
       "    <tr>\n",
       "      <th>9297</th>\n",
       "      <td>11 REDHILL CL</td>\n",
       "      <td>NaN</td>\n",
       "      <td>NaN</td>\n",
       "    </tr>\n",
       "    <tr>\n",
       "      <th>9329</th>\n",
       "      <td>12 REDHILL CL</td>\n",
       "      <td>NaN</td>\n",
       "      <td>NaN</td>\n",
       "    </tr>\n",
       "  </tbody>\n",
       "</table>\n",
       "<p>117 rows × 3 columns</p>\n",
       "</div>"
      ],
      "text/plain": [
       "                   address  lat long\n",
       "0     309 ANG MO KIO AVE 1  NaN  NaN\n",
       "127         4 HILLVIEW AVE  NaN  NaN\n",
       "145       33 TAMAN HO SWEE  NaN  NaN\n",
       "151      111 BT MERAH VIEW  NaN  NaN\n",
       "173           22 OUTRAM PK  NaN  NaN\n",
       "...                    ...  ...  ...\n",
       "9234    51 TANGLIN HALT RD  NaN  NaN\n",
       "9254            89 ZION RD  NaN  NaN\n",
       "9280      137 ALEXANDRA RD  NaN  NaN\n",
       "9297         11 REDHILL CL  NaN  NaN\n",
       "9329         12 REDHILL CL  NaN  NaN\n",
       "\n",
       "[117 rows x 3 columns]"
      ]
     },
     "execution_count": 6,
     "metadata": {},
     "output_type": "execute_result"
    }
   ],
   "source": [
    "addresses[addresses['lat'].isna()]\n",
    "#manual random inspection reveals some of these addresses to be outdated and some could not be found in one map api"
   ]
  },
  {
   "cell_type": "code",
   "execution_count": 7,
   "id": "8d7459b9",
   "metadata": {
    "ExecuteTime": {
     "end_time": "2022-10-07T11:09:17.980745Z",
     "start_time": "2022-10-07T11:09:17.590896Z"
    }
   },
   "outputs": [
    {
     "data": {
      "text/html": [
       "<div>\n",
       "<style scoped>\n",
       "    .dataframe tbody tr th:only-of-type {\n",
       "        vertical-align: middle;\n",
       "    }\n",
       "\n",
       "    .dataframe tbody tr th {\n",
       "        vertical-align: top;\n",
       "    }\n",
       "\n",
       "    .dataframe thead th {\n",
       "        text-align: right;\n",
       "    }\n",
       "</style>\n",
       "<table border=\"1\" class=\"dataframe\">\n",
       "  <thead>\n",
       "    <tr style=\"text-align: right;\">\n",
       "      <th></th>\n",
       "      <th>town</th>\n",
       "      <th>flat_type</th>\n",
       "      <th>block</th>\n",
       "      <th>street_name</th>\n",
       "      <th>storey_range</th>\n",
       "      <th>floor_area_sqm</th>\n",
       "      <th>flat_model</th>\n",
       "      <th>resale_price</th>\n",
       "      <th>year_sold</th>\n",
       "      <th>mth_sold</th>\n",
       "      <th>age_sold</th>\n",
       "      <th>lat</th>\n",
       "      <th>long</th>\n",
       "    </tr>\n",
       "  </thead>\n",
       "  <tbody>\n",
       "    <tr>\n",
       "      <th>0</th>\n",
       "      <td>ANG MO KIO</td>\n",
       "      <td>1 ROOM</td>\n",
       "      <td>309</td>\n",
       "      <td>ANG MO KIO AVE 1</td>\n",
       "      <td>10 TO 12</td>\n",
       "      <td>31.0</td>\n",
       "      <td>IMPROVED</td>\n",
       "      <td>9000.0</td>\n",
       "      <td>1990</td>\n",
       "      <td>1</td>\n",
       "      <td>13.0</td>\n",
       "      <td>NaN</td>\n",
       "      <td>NaN</td>\n",
       "    </tr>\n",
       "    <tr>\n",
       "      <th>1</th>\n",
       "      <td>ANG MO KIO</td>\n",
       "      <td>1 ROOM</td>\n",
       "      <td>309</td>\n",
       "      <td>ANG MO KIO AVE 1</td>\n",
       "      <td>04 TO 06</td>\n",
       "      <td>31.0</td>\n",
       "      <td>IMPROVED</td>\n",
       "      <td>6000.0</td>\n",
       "      <td>1990</td>\n",
       "      <td>1</td>\n",
       "      <td>13.0</td>\n",
       "      <td>NaN</td>\n",
       "      <td>NaN</td>\n",
       "    </tr>\n",
       "    <tr>\n",
       "      <th>2</th>\n",
       "      <td>ANG MO KIO</td>\n",
       "      <td>1 ROOM</td>\n",
       "      <td>309</td>\n",
       "      <td>ANG MO KIO AVE 1</td>\n",
       "      <td>10 TO 12</td>\n",
       "      <td>31.0</td>\n",
       "      <td>IMPROVED</td>\n",
       "      <td>8000.0</td>\n",
       "      <td>1990</td>\n",
       "      <td>1</td>\n",
       "      <td>13.0</td>\n",
       "      <td>NaN</td>\n",
       "      <td>NaN</td>\n",
       "    </tr>\n",
       "    <tr>\n",
       "      <th>3</th>\n",
       "      <td>ANG MO KIO</td>\n",
       "      <td>1 ROOM</td>\n",
       "      <td>309</td>\n",
       "      <td>ANG MO KIO AVE 1</td>\n",
       "      <td>07 TO 09</td>\n",
       "      <td>31.0</td>\n",
       "      <td>IMPROVED</td>\n",
       "      <td>6000.0</td>\n",
       "      <td>1990</td>\n",
       "      <td>1</td>\n",
       "      <td>13.0</td>\n",
       "      <td>NaN</td>\n",
       "      <td>NaN</td>\n",
       "    </tr>\n",
       "    <tr>\n",
       "      <th>4</th>\n",
       "      <td>ANG MO KIO</td>\n",
       "      <td>4 ROOM</td>\n",
       "      <td>211</td>\n",
       "      <td>ANG MO KIO AVE 3</td>\n",
       "      <td>04 TO 06</td>\n",
       "      <td>81.0</td>\n",
       "      <td>NEW GENERATION</td>\n",
       "      <td>80000.0</td>\n",
       "      <td>1990</td>\n",
       "      <td>1</td>\n",
       "      <td>13.0</td>\n",
       "      <td>1.369196965617</td>\n",
       "      <td>103.841666636086</td>\n",
       "    </tr>\n",
       "    <tr>\n",
       "      <th>5</th>\n",
       "      <td>ANG MO KIO</td>\n",
       "      <td>4 ROOM</td>\n",
       "      <td>209</td>\n",
       "      <td>ANG MO KIO AVE 3</td>\n",
       "      <td>07 TO 09</td>\n",
       "      <td>91.0</td>\n",
       "      <td>NEW GENERATION</td>\n",
       "      <td>72000.0</td>\n",
       "      <td>1990</td>\n",
       "      <td>1</td>\n",
       "      <td>13.0</td>\n",
       "      <td>1.36897079641509</td>\n",
       "      <td>103.843284524871</td>\n",
       "    </tr>\n",
       "    <tr>\n",
       "      <th>6</th>\n",
       "      <td>ANG MO KIO</td>\n",
       "      <td>4 ROOM</td>\n",
       "      <td>231</td>\n",
       "      <td>ANG MO KIO AVE 3</td>\n",
       "      <td>04 TO 06</td>\n",
       "      <td>92.0</td>\n",
       "      <td>NEW GENERATION</td>\n",
       "      <td>72000.0</td>\n",
       "      <td>1990</td>\n",
       "      <td>1</td>\n",
       "      <td>13.0</td>\n",
       "      <td>1.36856103572357</td>\n",
       "      <td>103.837525234344</td>\n",
       "    </tr>\n",
       "    <tr>\n",
       "      <th>7</th>\n",
       "      <td>ANG MO KIO</td>\n",
       "      <td>4 ROOM</td>\n",
       "      <td>308</td>\n",
       "      <td>ANG MO KIO AVE 1</td>\n",
       "      <td>10 TO 12</td>\n",
       "      <td>92.0</td>\n",
       "      <td>NEW GENERATION</td>\n",
       "      <td>86000.0</td>\n",
       "      <td>1990</td>\n",
       "      <td>1</td>\n",
       "      <td>14.0</td>\n",
       "      <td>1.36569665029696</td>\n",
       "      <td>103.844347269095</td>\n",
       "    </tr>\n",
       "    <tr>\n",
       "      <th>8</th>\n",
       "      <td>ANG MO KIO</td>\n",
       "      <td>4 ROOM</td>\n",
       "      <td>254</td>\n",
       "      <td>ANG MO KIO AVE 4</td>\n",
       "      <td>10 TO 12</td>\n",
       "      <td>97.0</td>\n",
       "      <td>NEW GENERATION</td>\n",
       "      <td>72000.0</td>\n",
       "      <td>1990</td>\n",
       "      <td>1</td>\n",
       "      <td>13.0</td>\n",
       "      <td>1.37020344042146</td>\n",
       "      <td>103.834687722549</td>\n",
       "    </tr>\n",
       "    <tr>\n",
       "      <th>9</th>\n",
       "      <td>ANG MO KIO</td>\n",
       "      <td>4 ROOM</td>\n",
       "      <td>103</td>\n",
       "      <td>ANG MO KIO AVE 3</td>\n",
       "      <td>07 TO 09</td>\n",
       "      <td>90.0</td>\n",
       "      <td>NEW GENERATION</td>\n",
       "      <td>64500.0</td>\n",
       "      <td>1990</td>\n",
       "      <td>1</td>\n",
       "      <td>12.0</td>\n",
       "      <td>1.37101657804604</td>\n",
       "      <td>103.839304839187</td>\n",
       "    </tr>\n",
       "  </tbody>\n",
       "</table>\n",
       "</div>"
      ],
      "text/plain": [
       "         town flat_type block       street_name storey_range  floor_area_sqm  \\\n",
       "0  ANG MO KIO    1 ROOM   309  ANG MO KIO AVE 1     10 TO 12            31.0   \n",
       "1  ANG MO KIO    1 ROOM   309  ANG MO KIO AVE 1     04 TO 06            31.0   \n",
       "2  ANG MO KIO    1 ROOM   309  ANG MO KIO AVE 1     10 TO 12            31.0   \n",
       "3  ANG MO KIO    1 ROOM   309  ANG MO KIO AVE 1     07 TO 09            31.0   \n",
       "4  ANG MO KIO    4 ROOM   211  ANG MO KIO AVE 3     04 TO 06            81.0   \n",
       "5  ANG MO KIO    4 ROOM   209  ANG MO KIO AVE 3     07 TO 09            91.0   \n",
       "6  ANG MO KIO    4 ROOM   231  ANG MO KIO AVE 3     04 TO 06            92.0   \n",
       "7  ANG MO KIO    4 ROOM   308  ANG MO KIO AVE 1     10 TO 12            92.0   \n",
       "8  ANG MO KIO    4 ROOM   254  ANG MO KIO AVE 4     10 TO 12            97.0   \n",
       "9  ANG MO KIO    4 ROOM   103  ANG MO KIO AVE 3     07 TO 09            90.0   \n",
       "\n",
       "       flat_model  resale_price  year_sold  mth_sold  age_sold  \\\n",
       "0        IMPROVED        9000.0       1990         1      13.0   \n",
       "1        IMPROVED        6000.0       1990         1      13.0   \n",
       "2        IMPROVED        8000.0       1990         1      13.0   \n",
       "3        IMPROVED        6000.0       1990         1      13.0   \n",
       "4  NEW GENERATION       80000.0       1990         1      13.0   \n",
       "5  NEW GENERATION       72000.0       1990         1      13.0   \n",
       "6  NEW GENERATION       72000.0       1990         1      13.0   \n",
       "7  NEW GENERATION       86000.0       1990         1      14.0   \n",
       "8  NEW GENERATION       72000.0       1990         1      13.0   \n",
       "9  NEW GENERATION       64500.0       1990         1      12.0   \n",
       "\n",
       "                lat              long  \n",
       "0               NaN               NaN  \n",
       "1               NaN               NaN  \n",
       "2               NaN               NaN  \n",
       "3               NaN               NaN  \n",
       "4    1.369196965617  103.841666636086  \n",
       "5  1.36897079641509  103.843284524871  \n",
       "6  1.36856103572357  103.837525234344  \n",
       "7  1.36569665029696  103.844347269095  \n",
       "8  1.37020344042146  103.834687722549  \n",
       "9  1.37101657804604  103.839304839187  "
      ]
     },
     "execution_count": 7,
     "metadata": {},
     "output_type": "execute_result"
    }
   ],
   "source": [
    "#merge df\n",
    "merged = pd.merge(df, addresses, how='left', on='address')\n",
    "merged.drop('address', axis=1, inplace=True)\n",
    "merged.head(10)"
   ]
  },
  {
   "cell_type": "code",
   "execution_count": 8,
   "id": "aca1e0b9",
   "metadata": {
    "ExecuteTime": {
     "end_time": "2022-10-07T11:09:17.996785Z",
     "start_time": "2022-10-07T11:09:17.981752Z"
    }
   },
   "outputs": [
    {
     "data": {
      "text/plain": [
       "875236"
      ]
     },
     "execution_count": 8,
     "metadata": {},
     "output_type": "execute_result"
    }
   ],
   "source": [
    "len(merged)"
   ]
  },
  {
   "cell_type": "code",
   "execution_count": 9,
   "id": "112b320f",
   "metadata": {
    "ExecuteTime": {
     "end_time": "2022-10-07T11:09:18.481784Z",
     "start_time": "2022-10-07T11:09:17.998806Z"
    }
   },
   "outputs": [
    {
     "data": {
      "text/plain": [
       "865077"
      ]
     },
     "execution_count": 9,
     "metadata": {},
     "output_type": "execute_result"
    }
   ],
   "source": [
    "#address not found, block possibly already en-bloc\n",
    "merged.dropna(inplace=True)\n",
    "len(merged)"
   ]
  },
  {
   "cell_type": "code",
   "execution_count": 10,
   "id": "1376a896",
   "metadata": {
    "ExecuteTime": {
     "end_time": "2022-10-07T11:09:21.410994Z",
     "start_time": "2022-10-07T11:09:18.483765Z"
    }
   },
   "outputs": [],
   "source": [
    "#save file\n",
    "merged.to_csv(\"data/coords/coords_HDB.csv\", index=False)"
   ]
  }
 ],
 "metadata": {
  "kernelspec": {
   "display_name": "Python 3 (ipykernel)",
   "language": "python",
   "name": "python3"
  },
  "language_info": {
   "codemirror_mode": {
    "name": "ipython",
    "version": 3
   },
   "file_extension": ".py",
   "mimetype": "text/x-python",
   "name": "python",
   "nbconvert_exporter": "python",
   "pygments_lexer": "ipython3",
   "version": "3.10.4"
  },
  "toc": {
   "base_numbering": 1,
   "nav_menu": {},
   "number_sections": true,
   "sideBar": true,
   "skip_h1_title": false,
   "title_cell": "Table of Contents",
   "title_sidebar": "Contents",
   "toc_cell": false,
   "toc_position": {},
   "toc_section_display": true,
   "toc_window_display": false
  }
 },
 "nbformat": 4,
 "nbformat_minor": 5
}
