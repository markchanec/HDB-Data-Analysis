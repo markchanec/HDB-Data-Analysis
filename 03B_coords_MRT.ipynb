{
 "cells": [
  {
   "cell_type": "code",
   "execution_count": 1,
   "id": "b25e9500",
   "metadata": {
    "ExecuteTime": {
     "end_time": "2022-10-05T09:49:21.082149Z",
     "start_time": "2022-10-05T09:49:20.813020Z"
    }
   },
   "outputs": [],
   "source": [
    "import API_Call\n",
    "import pandas as pd\n",
    "pd.options.mode.chained_assignment = None\n",
    "import numpy as np"
   ]
  },
  {
   "cell_type": "code",
   "execution_count": 2,
   "id": "54a19d7e",
   "metadata": {
    "ExecuteTime": {
     "end_time": "2022-10-05T09:49:21.097764Z",
     "start_time": "2022-10-05T09:49:21.082149Z"
    }
   },
   "outputs": [
    {
     "data": {
      "text/html": [
       "<div>\n",
       "<style scoped>\n",
       "    .dataframe tbody tr th:only-of-type {\n",
       "        vertical-align: middle;\n",
       "    }\n",
       "\n",
       "    .dataframe tbody tr th {\n",
       "        vertical-align: top;\n",
       "    }\n",
       "\n",
       "    .dataframe thead th {\n",
       "        text-align: right;\n",
       "    }\n",
       "</style>\n",
       "<table border=\"1\" class=\"dataframe\">\n",
       "  <thead>\n",
       "    <tr style=\"text-align: right;\">\n",
       "      <th></th>\n",
       "      <th>Station</th>\n",
       "      <th>Line</th>\n",
       "    </tr>\n",
       "  </thead>\n",
       "  <tbody>\n",
       "    <tr>\n",
       "      <th>0</th>\n",
       "      <td>Expo MRT</td>\n",
       "      <td>Changi Airport Branch</td>\n",
       "    </tr>\n",
       "    <tr>\n",
       "      <th>1</th>\n",
       "      <td>Changi Airport MRT</td>\n",
       "      <td>Changi Airport Branch</td>\n",
       "    </tr>\n",
       "    <tr>\n",
       "      <th>2</th>\n",
       "      <td>Dhoby Ghaut MRT</td>\n",
       "      <td>Circle</td>\n",
       "    </tr>\n",
       "    <tr>\n",
       "      <th>3</th>\n",
       "      <td>Bras Basah MRT</td>\n",
       "      <td>Circle</td>\n",
       "    </tr>\n",
       "    <tr>\n",
       "      <th>4</th>\n",
       "      <td>Esplanade MRT</td>\n",
       "      <td>Circle</td>\n",
       "    </tr>\n",
       "  </tbody>\n",
       "</table>\n",
       "</div>"
      ],
      "text/plain": [
       "              Station                   Line\n",
       "0            Expo MRT  Changi Airport Branch\n",
       "1  Changi Airport MRT  Changi Airport Branch\n",
       "2     Dhoby Ghaut MRT                 Circle\n",
       "3      Bras Basah MRT                 Circle\n",
       "4       Esplanade MRT                 Circle"
      ]
     },
     "execution_count": 2,
     "metadata": {},
     "output_type": "execute_result"
    }
   ],
   "source": [
    "df = pd.read_csv(\"data/coords/mrt_lrt.csv\")\n",
    "df.head()"
   ]
  },
  {
   "cell_type": "code",
   "execution_count": 3,
   "id": "7c631019",
   "metadata": {
    "ExecuteTime": {
     "end_time": "2022-10-05T09:49:21.118271Z",
     "start_time": "2022-10-05T09:49:21.097764Z"
    }
   },
   "outputs": [
    {
     "name": "stdout",
     "output_type": "stream",
     "text": [
      "(188, 2)\n"
     ]
    },
    {
     "data": {
      "text/plain": [
       "(164, 2)"
      ]
     },
     "execution_count": 3,
     "metadata": {},
     "output_type": "execute_result"
    }
   ],
   "source": [
    "#station repeated due to different line\n",
    "print(df.shape)\n",
    "df.drop_duplicates('Station', keep='last', inplace=True, ignore_index=True)\n",
    "df.shape"
   ]
  },
  {
   "cell_type": "code",
   "execution_count": 4,
   "id": "6ea079aa",
   "metadata": {
    "ExecuteTime": {
     "end_time": "2022-10-05T09:49:21.133902Z",
     "start_time": "2022-10-05T09:49:21.118271Z"
    }
   },
   "outputs": [],
   "source": [
    "df.drop(['Line'], axis=1, inplace=True)"
   ]
  },
  {
   "cell_type": "code",
   "execution_count": 5,
   "id": "0ea35857",
   "metadata": {
    "ExecuteTime": {
     "end_time": "2022-10-05T09:49:36.171962Z",
     "start_time": "2022-10-05T09:49:21.133902Z"
    }
   },
   "outputs": [
    {
     "name": "stdout",
     "output_type": "stream",
     "text": [
      "Processing 163 record\r"
     ]
    }
   ],
   "source": [
    "#default latitude/longitude\n",
    "df['lat'] = np.nan\n",
    "df['long'] = np.nan\n",
    "\n",
    "API_Call.process_df(df, \"Station\")"
   ]
  },
  {
   "cell_type": "code",
   "execution_count": 6,
   "id": "ba4e9278",
   "metadata": {
    "ExecuteTime": {
     "end_time": "2022-10-05T09:49:36.187536Z",
     "start_time": "2022-10-05T09:49:36.172963Z"
    }
   },
   "outputs": [
    {
     "data": {
      "text/plain": [
       "Station    0\n",
       "lat        0\n",
       "long       0\n",
       "dtype: int64"
      ]
     },
     "execution_count": 6,
     "metadata": {},
     "output_type": "execute_result"
    }
   ],
   "source": [
    "#check any invalid address/request\n",
    "df.isna().sum()"
   ]
  },
  {
   "cell_type": "code",
   "execution_count": 7,
   "id": "e506ba01",
   "metadata": {
    "ExecuteTime": {
     "end_time": "2022-10-05T09:49:36.202493Z",
     "start_time": "2022-10-05T09:49:36.188806Z"
    }
   },
   "outputs": [],
   "source": [
    "#save file\n",
    "df.to_csv(\"data/coords/coords_mrt.csv\", index=False)"
   ]
  }
 ],
 "metadata": {
  "kernelspec": {
   "display_name": "Python 3 (ipykernel)",
   "language": "python",
   "name": "python3"
  },
  "language_info": {
   "codemirror_mode": {
    "name": "ipython",
    "version": 3
   },
   "file_extension": ".py",
   "mimetype": "text/x-python",
   "name": "python",
   "nbconvert_exporter": "python",
   "pygments_lexer": "ipython3",
   "version": "3.10.4"
  },
  "toc": {
   "base_numbering": 1,
   "nav_menu": {},
   "number_sections": true,
   "sideBar": true,
   "skip_h1_title": false,
   "title_cell": "Table of Contents",
   "title_sidebar": "Contents",
   "toc_cell": false,
   "toc_position": {},
   "toc_section_display": true,
   "toc_window_display": false
  }
 },
 "nbformat": 4,
 "nbformat_minor": 5
}
