{
 "cells": [
  {
   "cell_type": "code",
   "execution_count": 1,
   "id": "b25e9500",
   "metadata": {
    "ExecuteTime": {
     "end_time": "2022-10-05T09:43:40.215948Z",
     "start_time": "2022-10-05T09:43:39.919655Z"
    }
   },
   "outputs": [],
   "source": [
    "import API_Call\n",
    "import pandas as pd\n",
    "pd.options.mode.chained_assignment = None\n",
    "import numpy as np"
   ]
  },
  {
   "cell_type": "code",
   "execution_count": 2,
   "id": "54a19d7e",
   "metadata": {
    "ExecuteTime": {
     "end_time": "2022-10-05T09:43:40.246971Z",
     "start_time": "2022-10-05T09:43:40.216956Z"
    }
   },
   "outputs": [
    {
     "data": {
      "text/html": [
       "<div>\n",
       "<style scoped>\n",
       "    .dataframe tbody tr th:only-of-type {\n",
       "        vertical-align: middle;\n",
       "    }\n",
       "\n",
       "    .dataframe tbody tr th {\n",
       "        vertical-align: top;\n",
       "    }\n",
       "\n",
       "    .dataframe thead th {\n",
       "        text-align: right;\n",
       "    }\n",
       "</style>\n",
       "<table border=\"1\" class=\"dataframe\">\n",
       "  <thead>\n",
       "    <tr style=\"text-align: right;\">\n",
       "      <th></th>\n",
       "      <th>Interchange</th>\n",
       "    </tr>\n",
       "  </thead>\n",
       "  <tbody>\n",
       "    <tr>\n",
       "      <th>0</th>\n",
       "      <td>Bukit Panjang Integrated Transport Hub</td>\n",
       "    </tr>\n",
       "    <tr>\n",
       "      <th>1</th>\n",
       "      <td>Choa Chu Kang Interchange</td>\n",
       "    </tr>\n",
       "    <tr>\n",
       "      <th>2</th>\n",
       "      <td>Woodlands Integrated Transport Hub</td>\n",
       "    </tr>\n",
       "    <tr>\n",
       "      <th>3</th>\n",
       "      <td>Woodlands Temporary Bus Interchange</td>\n",
       "    </tr>\n",
       "    <tr>\n",
       "      <th>4</th>\n",
       "      <td>Ang Mo Kio Bus Interchange</td>\n",
       "    </tr>\n",
       "  </tbody>\n",
       "</table>\n",
       "</div>"
      ],
      "text/plain": [
       "                              Interchange\n",
       "0  Bukit Panjang Integrated Transport Hub\n",
       "1               Choa Chu Kang Interchange\n",
       "2      Woodlands Integrated Transport Hub\n",
       "3     Woodlands Temporary Bus Interchange\n",
       "4              Ang Mo Kio Bus Interchange"
      ]
     },
     "execution_count": 2,
     "metadata": {},
     "output_type": "execute_result"
    }
   ],
   "source": [
    "df = pd.read_csv(\"data/coords/bus_interchange.csv\")\n",
    "df.head()"
   ]
  },
  {
   "cell_type": "code",
   "execution_count": 3,
   "id": "0ea35857",
   "metadata": {
    "ExecuteTime": {
     "end_time": "2022-10-05T09:43:43.643291Z",
     "start_time": "2022-10-05T09:43:40.248156Z"
    }
   },
   "outputs": [
    {
     "name": "stdout",
     "output_type": "stream",
     "text": [
      "Processing 26 record\r"
     ]
    }
   ],
   "source": [
    "#default latitude/longitude\n",
    "df['lat'] = np.nan\n",
    "df['long'] = np.nan\n",
    "\n",
    "API_Call.process_df(df, \"Interchange\")"
   ]
  },
  {
   "cell_type": "code",
   "execution_count": 4,
   "id": "ba4e9278",
   "metadata": {
    "ExecuteTime": {
     "end_time": "2022-10-05T09:43:43.659458Z",
     "start_time": "2022-10-05T09:43:43.644323Z"
    }
   },
   "outputs": [
    {
     "data": {
      "text/plain": [
       "Interchange    0\n",
       "lat            0\n",
       "long           0\n",
       "dtype: int64"
      ]
     },
     "execution_count": 4,
     "metadata": {},
     "output_type": "execute_result"
    }
   ],
   "source": [
    "#check any invalid address/request\n",
    "df.isna().sum()"
   ]
  },
  {
   "cell_type": "code",
   "execution_count": 5,
   "id": "e506ba01",
   "metadata": {
    "ExecuteTime": {
     "end_time": "2022-10-05T09:43:43.674621Z",
     "start_time": "2022-10-05T09:43:43.661523Z"
    }
   },
   "outputs": [],
   "source": [
    "#save file\n",
    "df.to_csv(\"data/coords/coords_bus.csv\", index=False)"
   ]
  }
 ],
 "metadata": {
  "kernelspec": {
   "display_name": "Python 3 (ipykernel)",
   "language": "python",
   "name": "python3"
  },
  "language_info": {
   "codemirror_mode": {
    "name": "ipython",
    "version": 3
   },
   "file_extension": ".py",
   "mimetype": "text/x-python",
   "name": "python",
   "nbconvert_exporter": "python",
   "pygments_lexer": "ipython3",
   "version": "3.10.4"
  },
  "toc": {
   "base_numbering": 1,
   "nav_menu": {},
   "number_sections": true,
   "sideBar": true,
   "skip_h1_title": false,
   "title_cell": "Table of Contents",
   "title_sidebar": "Contents",
   "toc_cell": false,
   "toc_position": {},
   "toc_section_display": true,
   "toc_window_display": false
  }
 },
 "nbformat": 4,
 "nbformat_minor": 5
}
