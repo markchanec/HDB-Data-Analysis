{
 "cells": [
  {
   "cell_type": "code",
   "execution_count": 1,
   "id": "4e9d254e",
   "metadata": {
    "ExecuteTime": {
     "end_time": "2022-10-03T15:32:27.771276Z",
     "start_time": "2022-10-03T15:32:27.478835Z"
    }
   },
   "outputs": [],
   "source": [
    "import API_Call\n",
    "import pandas as pd"
   ]
  },
  {
   "cell_type": "code",
   "execution_count": 2,
   "id": "dec600de",
   "metadata": {
    "ExecuteTime": {
     "end_time": "2022-10-03T15:32:29.431502Z",
     "start_time": "2022-10-03T15:32:27.773021Z"
    }
   },
   "outputs": [
    {
     "data": {
      "text/plain": [
       "214"
      ]
     },
     "execution_count": 2,
     "metadata": {},
     "output_type": "execute_result"
    }
   ],
   "source": [
    "api = \"https://developers.onemap.sg/commonapi/search?returnGeom=Y&getAddrDetails=N&searchVal=primary%20school\"\n",
    "list_pri = API_Call.get_list(api)\n",
    "len(list_pri)"
   ]
  },
  {
   "cell_type": "code",
   "execution_count": 3,
   "id": "9cea79f1",
   "metadata": {
    "ExecuteTime": {
     "end_time": "2022-10-03T15:32:29.447119Z",
     "start_time": "2022-10-03T15:32:29.432501Z"
    }
   },
   "outputs": [
    {
     "data": {
      "text/html": [
       "<div>\n",
       "<style scoped>\n",
       "    .dataframe tbody tr th:only-of-type {\n",
       "        vertical-align: middle;\n",
       "    }\n",
       "\n",
       "    .dataframe tbody tr th {\n",
       "        vertical-align: top;\n",
       "    }\n",
       "\n",
       "    .dataframe thead th {\n",
       "        text-align: right;\n",
       "    }\n",
       "</style>\n",
       "<table border=\"1\" class=\"dataframe\">\n",
       "  <thead>\n",
       "    <tr style=\"text-align: right;\">\n",
       "      <th></th>\n",
       "      <th>School</th>\n",
       "      <th>lat</th>\n",
       "      <th>long</th>\n",
       "    </tr>\n",
       "  </thead>\n",
       "  <tbody>\n",
       "    <tr>\n",
       "      <th>0</th>\n",
       "      <td>ZHONGHUA PRIMARY SCHOOL</td>\n",
       "      <td>1.36020329705047</td>\n",
       "      <td>103.869762438084</td>\n",
       "    </tr>\n",
       "    <tr>\n",
       "      <th>1</th>\n",
       "      <td>ZHENGHUA PRIMARY SCHOOL</td>\n",
       "      <td>1.37954887512229</td>\n",
       "      <td>103.769313521752</td>\n",
       "    </tr>\n",
       "    <tr>\n",
       "      <th>2</th>\n",
       "      <td>ZHANGDE PRIMARY SCHOOL</td>\n",
       "      <td>1.28421153335379</td>\n",
       "      <td>103.825951875662</td>\n",
       "    </tr>\n",
       "    <tr>\n",
       "      <th>3</th>\n",
       "      <td>YUMIN PRIMARY SCHOOL</td>\n",
       "      <td>1.35129177656981</td>\n",
       "      <td>103.950461927088</td>\n",
       "    </tr>\n",
       "    <tr>\n",
       "      <th>4</th>\n",
       "      <td>YUHUA PRIMARY SCHOOL</td>\n",
       "      <td>1.34280230475033</td>\n",
       "      <td>103.741105772644</td>\n",
       "    </tr>\n",
       "  </tbody>\n",
       "</table>\n",
       "</div>"
      ],
      "text/plain": [
       "                    School               lat              long\n",
       "0  ZHONGHUA PRIMARY SCHOOL  1.36020329705047  103.869762438084\n",
       "1  ZHENGHUA PRIMARY SCHOOL  1.37954887512229  103.769313521752\n",
       "2   ZHANGDE PRIMARY SCHOOL  1.28421153335379  103.825951875662\n",
       "3     YUMIN PRIMARY SCHOOL  1.35129177656981  103.950461927088\n",
       "4     YUHUA PRIMARY SCHOOL  1.34280230475033  103.741105772644"
      ]
     },
     "execution_count": 3,
     "metadata": {},
     "output_type": "execute_result"
    }
   ],
   "source": [
    "#convert to df for easy viewing and checking\n",
    "columns = ['School', 'lat', 'long']\n",
    "df = pd.DataFrame(list_pri, columns=columns)\n",
    "df.head()"
   ]
  },
  {
   "cell_type": "code",
   "execution_count": 4,
   "id": "4f22b93f",
   "metadata": {
    "ExecuteTime": {
     "end_time": "2022-10-03T15:32:29.462811Z",
     "start_time": "2022-10-03T15:32:29.448136Z"
    }
   },
   "outputs": [
    {
     "data": {
      "text/plain": [
       "School    0\n",
       "lat       0\n",
       "long      0\n",
       "dtype: int64"
      ]
     },
     "execution_count": 4,
     "metadata": {},
     "output_type": "execute_result"
    }
   ],
   "source": [
    "#check any invalid address/request\n",
    "df.isna().sum()"
   ]
  },
  {
   "cell_type": "code",
   "execution_count": 5,
   "id": "6280d7e1",
   "metadata": {
    "ExecuteTime": {
     "end_time": "2022-10-03T15:32:29.478487Z",
     "start_time": "2022-10-03T15:32:29.464840Z"
    }
   },
   "outputs": [],
   "source": [
    "#save file\n",
    "df.to_csv(\"data/coords/coords_primary.csv\", index=False)"
   ]
  }
 ],
 "metadata": {
  "kernelspec": {
   "display_name": "Python 3 (ipykernel)",
   "language": "python",
   "name": "python3"
  },
  "language_info": {
   "codemirror_mode": {
    "name": "ipython",
    "version": 3
   },
   "file_extension": ".py",
   "mimetype": "text/x-python",
   "name": "python",
   "nbconvert_exporter": "python",
   "pygments_lexer": "ipython3",
   "version": "3.10.4"
  },
  "toc": {
   "base_numbering": 1,
   "nav_menu": {},
   "number_sections": true,
   "sideBar": true,
   "skip_h1_title": false,
   "title_cell": "Table of Contents",
   "title_sidebar": "Contents",
   "toc_cell": false,
   "toc_position": {},
   "toc_section_display": true,
   "toc_window_display": false
  }
 },
 "nbformat": 4,
 "nbformat_minor": 5
}
