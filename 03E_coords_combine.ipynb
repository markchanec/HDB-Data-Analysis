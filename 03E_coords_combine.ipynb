{
 "cells": [
  {
   "cell_type": "code",
   "execution_count": 1,
   "id": "67c6da1d",
   "metadata": {
    "ExecuteTime": {
     "end_time": "2022-10-07T14:09:15.608083Z",
     "start_time": "2022-10-07T14:09:14.610478Z"
    }
   },
   "outputs": [],
   "source": [
    "import pandas as pd\n",
    "from haversine import haversine\n",
    "\n",
    "hdb = pd.read_csv(\"data/coords/coords_HDB.csv\")\n",
    "mrt = pd.read_csv(\"data/coords/coords_mrt.csv\")\n",
    "bus = pd.read_csv(\"data/coords/coords_bus.csv\")\n",
    "primary = pd.read_csv(\"data/coords/coords_primary.csv\")"
   ]
  },
  {
   "cell_type": "code",
   "execution_count": 2,
   "id": "6ce0a861",
   "metadata": {
    "ExecuteTime": {
     "end_time": "2022-10-07T14:09:15.685869Z",
     "start_time": "2022-10-07T14:09:15.609085Z"
    }
   },
   "outputs": [],
   "source": [
    "#rename lat/long to that of hdb lat/long for clarity\n",
    "hdb=hdb.rename(columns = {'lat':'hdb_lat'})\n",
    "hdb=hdb.rename(columns = {'long':'hdb_long'})"
   ]
  },
  {
   "cell_type": "code",
   "execution_count": 3,
   "id": "917e41c9",
   "metadata": {
    "ExecuteTime": {
     "end_time": "2022-10-07T14:09:15.701190Z",
     "start_time": "2022-10-07T14:09:15.686966Z"
    }
   },
   "outputs": [],
   "source": [
    "#function for finding distance between 2 sets of lat/long\n",
    "def dist(lat1, long1, lat2, long2):\n",
    "    return int(haversine((lat1, long1), (lat2, long2), unit='m'))"
   ]
  },
  {
   "cell_type": "code",
   "execution_count": 4,
   "id": "df01b058",
   "metadata": {
    "ExecuteTime": {
     "end_time": "2022-10-07T14:09:15.716454Z",
     "start_time": "2022-10-07T14:09:15.702190Z"
    }
   },
   "outputs": [],
   "source": [
    "def find_nearest_bus(lat, long):\n",
    "    distances = bus.apply(lambda row: dist(lat, long, row['lat'], row['long']), axis=1)\n",
    "    return bus.loc[distances.idxmin(), 'Interchange']\n",
    "\n",
    "\n",
    "def find_nearest_mrt(lat, long):\n",
    "    distances = mrt.apply(lambda row: dist(lat, long, row['lat'], row['long']), axis=1)\n",
    "    return mrt.loc[distances.idxmin(), 'Station']\n",
    "\n",
    "\n",
    "def find_nearest_school(lat, long):\n",
    "    distances = primary.apply(lambda row: dist(lat, long, row['lat'], row['long']), axis=1)\n",
    "    return primary.loc[distances.idxmin(), 'School']"
   ]
  },
  {
   "cell_type": "code",
   "execution_count": 5,
   "id": "4f674758",
   "metadata": {
    "ExecuteTime": {
     "end_time": "2022-10-07T14:15:16.295123Z",
     "start_time": "2022-10-07T14:09:15.718789Z"
    }
   },
   "outputs": [],
   "source": [
    "#find nearest bus interchange\n",
    "hdb['Interchange'] = hdb.apply(lambda row: find_nearest_bus(row['hdb_lat'], row['hdb_long']), axis=1)"
   ]
  },
  {
   "cell_type": "code",
   "execution_count": 6,
   "id": "5bacc5a1",
   "metadata": {
    "ExecuteTime": {
     "end_time": "2022-10-07T14:34:23.745020Z",
     "start_time": "2022-10-07T14:15:16.295123Z"
    }
   },
   "outputs": [],
   "source": [
    "#find nearest mrt/lrt station\n",
    "hdb['Station'] = hdb.apply(lambda row: find_nearest_mrt(row['hdb_lat'], row['hdb_long']), axis=1)"
   ]
  },
  {
   "cell_type": "code",
   "execution_count": 7,
   "id": "6ead4f7f",
   "metadata": {
    "ExecuteTime": {
     "end_time": "2022-10-07T14:58:18.807569Z",
     "start_time": "2022-10-07T14:34:23.745020Z"
    }
   },
   "outputs": [],
   "source": [
    "#find nearest primary school\n",
    "hdb['School'] = hdb.apply(lambda row: find_nearest_school(row['hdb_lat'], row['hdb_long']), axis=1)"
   ]
  },
  {
   "cell_type": "code",
   "execution_count": 8,
   "id": "28126f66",
   "metadata": {
    "ExecuteTime": {
     "end_time": "2022-10-07T14:58:19.024741Z",
     "start_time": "2022-10-07T14:58:18.807569Z"
    }
   },
   "outputs": [],
   "source": [
    "#rename columns for clarity\n",
    "merged = pd.merge(hdb, bus, how='left', on='Interchange')\n",
    "#and rename the new lat/long accordingly\n",
    "merged=merged.rename(columns = {'lat':'bus_lat'})\n",
    "merged=merged.rename(columns = {'long':'bus_long'})"
   ]
  },
  {
   "cell_type": "code",
   "execution_count": 9,
   "id": "2392675e",
   "metadata": {
    "ExecuteTime": {
     "end_time": "2022-10-07T14:58:19.228515Z",
     "start_time": "2022-10-07T14:58:19.024741Z"
    }
   },
   "outputs": [],
   "source": [
    "#rename columns for clarity\n",
    "merged1 = pd.merge(merged, mrt, how='left', on='Station')\n",
    "#and rename the new lat/long accordingly\n",
    "merged1=merged1.rename(columns = {'lat':'mrt_lat'})\n",
    "merged1=merged1.rename(columns = {'long':'mrt_long'})"
   ]
  },
  {
   "cell_type": "code",
   "execution_count": 10,
   "id": "4165f950",
   "metadata": {
    "ExecuteTime": {
     "end_time": "2022-10-07T14:58:19.452602Z",
     "start_time": "2022-10-07T14:58:19.228515Z"
    }
   },
   "outputs": [],
   "source": [
    "#rename columns for clarity\n",
    "merged2 = pd.merge(merged1, primary, how='left', on='School')\n",
    "#and rename the new lat/long accordingly\n",
    "merged2=merged2.rename(columns = {'lat':'sch_lat'})\n",
    "merged2=merged2.rename(columns = {'long':'sch_long'})\n",
    "#note: some locations have multiple schools such as childcare center"
   ]
  },
  {
   "cell_type": "code",
   "execution_count": 11,
   "id": "0eaa4691",
   "metadata": {
    "ExecuteTime": {
     "end_time": "2022-10-07T14:58:19.609569Z",
     "start_time": "2022-10-07T14:58:19.454039Z"
    }
   },
   "outputs": [
    {
     "data": {
      "text/html": [
       "<div>\n",
       "<style scoped>\n",
       "    .dataframe tbody tr th:only-of-type {\n",
       "        vertical-align: middle;\n",
       "    }\n",
       "\n",
       "    .dataframe tbody tr th {\n",
       "        vertical-align: top;\n",
       "    }\n",
       "\n",
       "    .dataframe thead th {\n",
       "        text-align: right;\n",
       "    }\n",
       "</style>\n",
       "<table border=\"1\" class=\"dataframe\">\n",
       "  <thead>\n",
       "    <tr style=\"text-align: right;\">\n",
       "      <th></th>\n",
       "      <th>town</th>\n",
       "      <th>flat_type</th>\n",
       "      <th>block</th>\n",
       "      <th>street_name</th>\n",
       "      <th>storey_range</th>\n",
       "      <th>floor_area_sqm</th>\n",
       "      <th>flat_model</th>\n",
       "      <th>resale_price</th>\n",
       "      <th>year_sold</th>\n",
       "      <th>mth_sold</th>\n",
       "      <th>...</th>\n",
       "      <th>hdb_long</th>\n",
       "      <th>bus</th>\n",
       "      <th>mrt</th>\n",
       "      <th>pri_sch</th>\n",
       "      <th>bus_lat</th>\n",
       "      <th>bus_long</th>\n",
       "      <th>mrt_lat</th>\n",
       "      <th>mrt_long</th>\n",
       "      <th>sch_lat</th>\n",
       "      <th>sch_long</th>\n",
       "    </tr>\n",
       "  </thead>\n",
       "  <tbody>\n",
       "    <tr>\n",
       "      <th>0</th>\n",
       "      <td>ANG MO KIO</td>\n",
       "      <td>4 ROOM</td>\n",
       "      <td>211</td>\n",
       "      <td>ANG MO KIO AVE 3</td>\n",
       "      <td>04 TO 06</td>\n",
       "      <td>81.0</td>\n",
       "      <td>NEW GENERATION</td>\n",
       "      <td>80000.0</td>\n",
       "      <td>1990</td>\n",
       "      <td>1</td>\n",
       "      <td>...</td>\n",
       "      <td>103.841667</td>\n",
       "      <td>Ang Mo Kio Bus Interchange</td>\n",
       "      <td>Mayflower MRT</td>\n",
       "      <td>ANG MO KIO PRIMARY SCHOOL</td>\n",
       "      <td>1.369519</td>\n",
       "      <td>103.848462</td>\n",
       "      <td>1.371463</td>\n",
       "      <td>103.836568</td>\n",
       "      <td>1.369322</td>\n",
       "      <td>103.839631</td>\n",
       "    </tr>\n",
       "  </tbody>\n",
       "</table>\n",
       "<p>1 rows × 22 columns</p>\n",
       "</div>"
      ],
      "text/plain": [
       "         town flat_type block       street_name storey_range  floor_area_sqm  \\\n",
       "0  ANG MO KIO    4 ROOM   211  ANG MO KIO AVE 3     04 TO 06            81.0   \n",
       "\n",
       "       flat_model  resale_price  year_sold  mth_sold  ...    hdb_long  \\\n",
       "0  NEW GENERATION       80000.0       1990         1  ...  103.841667   \n",
       "\n",
       "                          bus            mrt                    pri_sch  \\\n",
       "0  Ang Mo Kio Bus Interchange  Mayflower MRT  ANG MO KIO PRIMARY SCHOOL   \n",
       "\n",
       "    bus_lat    bus_long   mrt_lat    mrt_long   sch_lat    sch_long  \n",
       "0  1.369519  103.848462  1.371463  103.836568  1.369322  103.839631  \n",
       "\n",
       "[1 rows x 22 columns]"
      ]
     },
     "execution_count": 11,
     "metadata": {},
     "output_type": "execute_result"
    }
   ],
   "source": [
    "#rename column names for clarity\n",
    "merged2=merged2.rename(columns = {'Interchange':'bus'})\n",
    "merged2=merged2.rename(columns = {'Station':'mrt'})\n",
    "merged2=merged2.rename(columns = {'School':'pri_sch'})\n",
    "merged2.head(1)"
   ]
  },
  {
   "cell_type": "code",
   "execution_count": 12,
   "id": "d3bfe3a8",
   "metadata": {
    "ExecuteTime": {
     "end_time": "2022-10-07T14:58:45.905855Z",
     "start_time": "2022-10-07T14:58:19.610821Z"
    }
   },
   "outputs": [],
   "source": [
    "#calulate the distances\n",
    "merged2['bus_dist'] = merged2.apply(lambda row: dist(row['hdb_lat'], row['hdb_long'],\n",
    "                                                   row['bus_lat'], row['bus_long']), axis=1)\n",
    "merged2['mrt_dist'] = merged2.apply(lambda row: dist(row['hdb_lat'], row['hdb_long'],\n",
    "                                                   row['mrt_lat'], row['mrt_long']), axis=1)\n",
    "merged2['pri_dist'] = merged2.apply(lambda row: dist(row['hdb_lat'], row['hdb_long'],\n",
    "                                                   row['sch_lat'], row['sch_long']), axis=1)"
   ]
  },
  {
   "cell_type": "code",
   "execution_count": 13,
   "id": "033bd376",
   "metadata": {
    "ExecuteTime": {
     "end_time": "2022-10-07T14:58:52.998438Z",
     "start_time": "2022-10-07T14:58:45.905855Z"
    }
   },
   "outputs": [],
   "source": [
    "merged2.to_csv(\"data/coords/coords_combine.csv\", index=False)"
   ]
  }
 ],
 "metadata": {
  "kernelspec": {
   "display_name": "Python 3 (ipykernel)",
   "language": "python",
   "name": "python3"
  },
  "language_info": {
   "codemirror_mode": {
    "name": "ipython",
    "version": 3
   },
   "file_extension": ".py",
   "mimetype": "text/x-python",
   "name": "python",
   "nbconvert_exporter": "python",
   "pygments_lexer": "ipython3",
   "version": "3.10.4"
  },
  "toc": {
   "base_numbering": 1,
   "nav_menu": {},
   "number_sections": true,
   "sideBar": true,
   "skip_h1_title": false,
   "title_cell": "Table of Contents",
   "title_sidebar": "Contents",
   "toc_cell": false,
   "toc_position": {},
   "toc_section_display": true,
   "toc_window_display": false
  }
 },
 "nbformat": 4,
 "nbformat_minor": 5
}
