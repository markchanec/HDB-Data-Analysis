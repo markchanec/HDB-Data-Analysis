{
 "cells": [
  {
   "cell_type": "markdown",
   "id": "848672f0",
   "metadata": {
    "heading_collapsed": true
   },
   "source": [
    "# Import"
   ]
  },
  {
   "cell_type": "code",
   "execution_count": 1,
   "id": "cdb08d2c",
   "metadata": {
    "ExecuteTime": {
     "end_time": "2022-10-13T12:38:46.821589Z",
     "start_time": "2022-10-13T12:38:45.823135Z"
    },
    "hidden": true
   },
   "outputs": [],
   "source": [
    "import pandas as pd\n",
    "import numpy as np\n",
    "\n",
    "import matplotlib.pyplot as plt\n",
    "plt.style.use(\"dark_background\")\n",
    "import seaborn as sns\n",
    "\n",
    "from sklearn.metrics import r2_score, mean_squared_error"
   ]
  },
  {
   "cell_type": "markdown",
   "id": "4586259f",
   "metadata": {
    "heading_collapsed": true
   },
   "source": [
    "# Load and inflate prices"
   ]
  },
  {
   "cell_type": "code",
   "execution_count": 2,
   "id": "0467f037",
   "metadata": {
    "ExecuteTime": {
     "end_time": "2022-10-13T12:38:47.519874Z",
     "start_time": "2022-10-13T12:38:46.822014Z"
    },
    "hidden": true
   },
   "outputs": [
    {
     "data": {
      "text/html": [
       "<div>\n",
       "<style scoped>\n",
       "    .dataframe tbody tr th:only-of-type {\n",
       "        vertical-align: middle;\n",
       "    }\n",
       "\n",
       "    .dataframe tbody tr th {\n",
       "        vertical-align: top;\n",
       "    }\n",
       "\n",
       "    .dataframe thead th {\n",
       "        text-align: right;\n",
       "    }\n",
       "</style>\n",
       "<table border=\"1\" class=\"dataframe\">\n",
       "  <thead>\n",
       "    <tr style=\"text-align: right;\">\n",
       "      <th></th>\n",
       "      <th>year</th>\n",
       "      <th>level_1</th>\n",
       "      <th>value</th>\n",
       "    </tr>\n",
       "  </thead>\n",
       "  <tbody>\n",
       "    <tr>\n",
       "      <th>0</th>\n",
       "      <td>1990</td>\n",
       "      <td>MAS Core Inflation Measure</td>\n",
       "      <td>62.094</td>\n",
       "    </tr>\n",
       "    <tr>\n",
       "      <th>1</th>\n",
       "      <td>1991</td>\n",
       "      <td>MAS Core Inflation Measure</td>\n",
       "      <td>64.359</td>\n",
       "    </tr>\n",
       "    <tr>\n",
       "      <th>2</th>\n",
       "      <td>1992</td>\n",
       "      <td>MAS Core Inflation Measure</td>\n",
       "      <td>65.398</td>\n",
       "    </tr>\n",
       "    <tr>\n",
       "      <th>3</th>\n",
       "      <td>1993</td>\n",
       "      <td>MAS Core Inflation Measure</td>\n",
       "      <td>66.562</td>\n",
       "    </tr>\n",
       "    <tr>\n",
       "      <th>4</th>\n",
       "      <td>1994</td>\n",
       "      <td>MAS Core Inflation Measure</td>\n",
       "      <td>68.246</td>\n",
       "    </tr>\n",
       "  </tbody>\n",
       "</table>\n",
       "</div>"
      ],
      "text/plain": [
       "   year                     level_1   value\n",
       "0  1990  MAS Core Inflation Measure  62.094\n",
       "1  1991  MAS Core Inflation Measure  64.359\n",
       "2  1992  MAS Core Inflation Measure  65.398\n",
       "3  1993  MAS Core Inflation Measure  66.562\n",
       "4  1994  MAS Core Inflation Measure  68.246"
      ]
     },
     "execution_count": 2,
     "metadata": {},
     "output_type": "execute_result"
    }
   ],
   "source": [
    "df = pd.read_csv(\"data/coords/coords_HDB.csv\")\n",
    "\n",
    "#use of cpi to deflate/inflate prices as next best tool since unable to locate ooa stats online\n",
    "cpi = pd.read_csv(\"data/cpi.csv\")\n",
    "cpi.head()"
   ]
  },
  {
   "cell_type": "code",
   "execution_count": 3,
   "id": "64a994cd",
   "metadata": {
    "ExecuteTime": {
     "end_time": "2022-10-13T12:38:47.527966Z",
     "start_time": "2022-10-13T12:38:47.520808Z"
    },
    "hidden": true
   },
   "outputs": [
    {
     "name": "stdout",
     "output_type": "stream",
     "text": [
      "    year                     level_1  value\n",
      "29  2019  MAS Core Inflation Measure  100.0\n"
     ]
    },
    {
     "data": {
      "text/plain": [
       "24    94.607\n",
       "Name: value, dtype: float64"
      ]
     },
     "execution_count": 3,
     "metadata": {},
     "output_type": "execute_result"
    }
   ],
   "source": [
    "#base yr in 2019\n",
    "print(cpi[cpi.value==100])\n",
    "\n",
    "#2014 base value\n",
    "cpi.value[cpi.year==2014]"
   ]
  },
  {
   "cell_type": "code",
   "execution_count": 4,
   "id": "dd41898f",
   "metadata": {
    "ExecuteTime": {
     "end_time": "2022-10-13T12:38:47.543568Z",
     "start_time": "2022-10-13T12:38:47.529994Z"
    },
    "hidden": true
   },
   "outputs": [
    {
     "data": {
      "text/plain": [
       "100.0"
      ]
     },
     "execution_count": 4,
     "metadata": {},
     "output_type": "execute_result"
    }
   ],
   "source": [
    "#rebase it to 2014 to try predict prices in 2015\n",
    "cpi['new_value'] = cpi['value']/94.607*100\n",
    "cpi.iloc[24]['new_value']"
   ]
  },
  {
   "cell_type": "code",
   "execution_count": 5,
   "id": "5875fae9",
   "metadata": {
    "ExecuteTime": {
     "end_time": "2022-10-13T12:38:47.637962Z",
     "start_time": "2022-10-13T12:38:47.544607Z"
    },
    "hidden": true
   },
   "outputs": [
    {
     "data": {
      "text/html": [
       "<div>\n",
       "<style scoped>\n",
       "    .dataframe tbody tr th:only-of-type {\n",
       "        vertical-align: middle;\n",
       "    }\n",
       "\n",
       "    .dataframe tbody tr th {\n",
       "        vertical-align: top;\n",
       "    }\n",
       "\n",
       "    .dataframe thead th {\n",
       "        text-align: right;\n",
       "    }\n",
       "</style>\n",
       "<table border=\"1\" class=\"dataframe\">\n",
       "  <thead>\n",
       "    <tr style=\"text-align: right;\">\n",
       "      <th></th>\n",
       "      <th>town</th>\n",
       "      <th>flat_type</th>\n",
       "      <th>block</th>\n",
       "      <th>street_name</th>\n",
       "      <th>storey_range</th>\n",
       "      <th>floor_area_sqm</th>\n",
       "      <th>flat_model</th>\n",
       "      <th>resale_price</th>\n",
       "      <th>year_sold</th>\n",
       "      <th>mth_sold</th>\n",
       "      <th>age_sold</th>\n",
       "      <th>lat</th>\n",
       "      <th>long</th>\n",
       "      <th>year</th>\n",
       "      <th>level_1</th>\n",
       "      <th>value</th>\n",
       "      <th>new_value</th>\n",
       "      <th>new_resale_price</th>\n",
       "    </tr>\n",
       "  </thead>\n",
       "  <tbody>\n",
       "    <tr>\n",
       "      <th>0</th>\n",
       "      <td>ANG MO KIO</td>\n",
       "      <td>4 ROOM</td>\n",
       "      <td>211</td>\n",
       "      <td>ANG MO KIO AVE 3</td>\n",
       "      <td>04 TO 06</td>\n",
       "      <td>81.0</td>\n",
       "      <td>NEW GENERATION</td>\n",
       "      <td>80000.0</td>\n",
       "      <td>1990</td>\n",
       "      <td>1</td>\n",
       "      <td>13.0</td>\n",
       "      <td>1.369197</td>\n",
       "      <td>103.841667</td>\n",
       "      <td>1990.0</td>\n",
       "      <td>MAS Core Inflation Measure</td>\n",
       "      <td>62.094</td>\n",
       "      <td>65.633621</td>\n",
       "      <td>121888.749316</td>\n",
       "    </tr>\n",
       "    <tr>\n",
       "      <th>1</th>\n",
       "      <td>ANG MO KIO</td>\n",
       "      <td>4 ROOM</td>\n",
       "      <td>209</td>\n",
       "      <td>ANG MO KIO AVE 3</td>\n",
       "      <td>07 TO 09</td>\n",
       "      <td>91.0</td>\n",
       "      <td>NEW GENERATION</td>\n",
       "      <td>72000.0</td>\n",
       "      <td>1990</td>\n",
       "      <td>1</td>\n",
       "      <td>13.0</td>\n",
       "      <td>1.368971</td>\n",
       "      <td>103.843285</td>\n",
       "      <td>1990.0</td>\n",
       "      <td>MAS Core Inflation Measure</td>\n",
       "      <td>62.094</td>\n",
       "      <td>65.633621</td>\n",
       "      <td>109699.874384</td>\n",
       "    </tr>\n",
       "    <tr>\n",
       "      <th>2</th>\n",
       "      <td>ANG MO KIO</td>\n",
       "      <td>4 ROOM</td>\n",
       "      <td>231</td>\n",
       "      <td>ANG MO KIO AVE 3</td>\n",
       "      <td>04 TO 06</td>\n",
       "      <td>92.0</td>\n",
       "      <td>NEW GENERATION</td>\n",
       "      <td>72000.0</td>\n",
       "      <td>1990</td>\n",
       "      <td>1</td>\n",
       "      <td>13.0</td>\n",
       "      <td>1.368561</td>\n",
       "      <td>103.837525</td>\n",
       "      <td>1990.0</td>\n",
       "      <td>MAS Core Inflation Measure</td>\n",
       "      <td>62.094</td>\n",
       "      <td>65.633621</td>\n",
       "      <td>109699.874384</td>\n",
       "    </tr>\n",
       "    <tr>\n",
       "      <th>3</th>\n",
       "      <td>ANG MO KIO</td>\n",
       "      <td>4 ROOM</td>\n",
       "      <td>308</td>\n",
       "      <td>ANG MO KIO AVE 1</td>\n",
       "      <td>10 TO 12</td>\n",
       "      <td>92.0</td>\n",
       "      <td>NEW GENERATION</td>\n",
       "      <td>86000.0</td>\n",
       "      <td>1990</td>\n",
       "      <td>1</td>\n",
       "      <td>14.0</td>\n",
       "      <td>1.365697</td>\n",
       "      <td>103.844347</td>\n",
       "      <td>1990.0</td>\n",
       "      <td>MAS Core Inflation Measure</td>\n",
       "      <td>62.094</td>\n",
       "      <td>65.633621</td>\n",
       "      <td>131030.405514</td>\n",
       "    </tr>\n",
       "    <tr>\n",
       "      <th>4</th>\n",
       "      <td>ANG MO KIO</td>\n",
       "      <td>4 ROOM</td>\n",
       "      <td>254</td>\n",
       "      <td>ANG MO KIO AVE 4</td>\n",
       "      <td>10 TO 12</td>\n",
       "      <td>97.0</td>\n",
       "      <td>NEW GENERATION</td>\n",
       "      <td>72000.0</td>\n",
       "      <td>1990</td>\n",
       "      <td>1</td>\n",
       "      <td>13.0</td>\n",
       "      <td>1.370203</td>\n",
       "      <td>103.834688</td>\n",
       "      <td>1990.0</td>\n",
       "      <td>MAS Core Inflation Measure</td>\n",
       "      <td>62.094</td>\n",
       "      <td>65.633621</td>\n",
       "      <td>109699.874384</td>\n",
       "    </tr>\n",
       "  </tbody>\n",
       "</table>\n",
       "</div>"
      ],
      "text/plain": [
       "         town flat_type block       street_name storey_range  floor_area_sqm  \\\n",
       "0  ANG MO KIO    4 ROOM   211  ANG MO KIO AVE 3     04 TO 06            81.0   \n",
       "1  ANG MO KIO    4 ROOM   209  ANG MO KIO AVE 3     07 TO 09            91.0   \n",
       "2  ANG MO KIO    4 ROOM   231  ANG MO KIO AVE 3     04 TO 06            92.0   \n",
       "3  ANG MO KIO    4 ROOM   308  ANG MO KIO AVE 1     10 TO 12            92.0   \n",
       "4  ANG MO KIO    4 ROOM   254  ANG MO KIO AVE 4     10 TO 12            97.0   \n",
       "\n",
       "       flat_model  resale_price  year_sold  mth_sold  age_sold       lat  \\\n",
       "0  NEW GENERATION       80000.0       1990         1      13.0  1.369197   \n",
       "1  NEW GENERATION       72000.0       1990         1      13.0  1.368971   \n",
       "2  NEW GENERATION       72000.0       1990         1      13.0  1.368561   \n",
       "3  NEW GENERATION       86000.0       1990         1      14.0  1.365697   \n",
       "4  NEW GENERATION       72000.0       1990         1      13.0  1.370203   \n",
       "\n",
       "         long    year                     level_1   value  new_value  \\\n",
       "0  103.841667  1990.0  MAS Core Inflation Measure  62.094  65.633621   \n",
       "1  103.843285  1990.0  MAS Core Inflation Measure  62.094  65.633621   \n",
       "2  103.837525  1990.0  MAS Core Inflation Measure  62.094  65.633621   \n",
       "3  103.844347  1990.0  MAS Core Inflation Measure  62.094  65.633621   \n",
       "4  103.834688  1990.0  MAS Core Inflation Measure  62.094  65.633621   \n",
       "\n",
       "   new_resale_price  \n",
       "0     121888.749316  \n",
       "1     109699.874384  \n",
       "2     109699.874384  \n",
       "3     131030.405514  \n",
       "4     109699.874384  "
      ]
     },
     "execution_count": 5,
     "metadata": {},
     "output_type": "execute_result"
    }
   ],
   "source": [
    "#merge df\n",
    "merged = pd.merge(df, cpi, how='left', left_on='year_sold', right_on='year')\n",
    "\n",
    "#inflate/deflate all prices\n",
    "merged['new_resale_price'] = merged['resale_price'] / merged['new_value'] *100\n",
    "merged.head()"
   ]
  },
  {
   "cell_type": "code",
   "execution_count": 6,
   "id": "111c5b04",
   "metadata": {
    "ExecuteTime": {
     "end_time": "2022-10-13T12:38:48.226925Z",
     "start_time": "2022-10-13T12:38:47.638955Z"
    },
    "hidden": true
   },
   "outputs": [
    {
     "data": {
      "text/plain": [
       "(64774, 7)"
      ]
     },
     "execution_count": 6,
     "metadata": {},
     "output_type": "execute_result"
    }
   ],
   "source": [
    "yishun = merged.where((merged.town==\"YISHUN\") )\n",
    "yishun.dropna(inplace=True)\n",
    "\n",
    "yishun = yishun.filter([\"storey_range\", \"floor_area_sqm\", \"flat_type\", \"flat_model\", \"year_sold\", \"age_sold\", \"new_resale_price\"])\n",
    "yishun.shape"
   ]
  },
  {
   "cell_type": "code",
   "execution_count": 7,
   "id": "7a834731",
   "metadata": {
    "ExecuteTime": {
     "end_time": "2022-10-13T12:38:48.256741Z",
     "start_time": "2022-10-13T12:38:48.227927Z"
    },
    "hidden": true
   },
   "outputs": [
    {
     "name": "stdout",
     "output_type": "stream",
     "text": [
      "(4387, 7)\n",
      "(1249, 7)\n"
     ]
    }
   ],
   "source": [
    "#extract only data before 2017 to prevent data leakage\n",
    "#2013 chosen as cutoff for its proximity of year and number of samples for training\n",
    "#2013-6 and prior for training/CV; 2017 data for testing\n",
    "yishun = yishun.where((yishun.year_sold>=2013) & (yishun.year_sold<2018))\n",
    "yishun.dropna(inplace=True)\n",
    "\n",
    "train = yishun.where((yishun.year_sold>=2013) & (yishun.year_sold<2017))\n",
    "train.dropna(inplace=True)\n",
    "\n",
    "test = yishun.where(yishun.year_sold==2017)\n",
    "test.dropna(inplace=True)\n",
    "\n",
    "print(train.shape)\n",
    "print(test.shape) #about 21.7% of train data "
   ]
  },
  {
   "cell_type": "code",
   "execution_count": 8,
   "id": "3ea211c0",
   "metadata": {
    "ExecuteTime": {
     "end_time": "2022-10-13T12:38:48.270584Z",
     "start_time": "2022-10-13T12:38:48.257907Z"
    },
    "hidden": true
   },
   "outputs": [
    {
     "data": {
      "text/html": [
       "<div>\n",
       "<style scoped>\n",
       "    .dataframe tbody tr th:only-of-type {\n",
       "        vertical-align: middle;\n",
       "    }\n",
       "\n",
       "    .dataframe tbody tr th {\n",
       "        vertical-align: top;\n",
       "    }\n",
       "\n",
       "    .dataframe thead th {\n",
       "        text-align: right;\n",
       "    }\n",
       "</style>\n",
       "<table border=\"1\" class=\"dataframe\">\n",
       "  <thead>\n",
       "    <tr style=\"text-align: right;\">\n",
       "      <th></th>\n",
       "      <th>floor_area_sqm</th>\n",
       "      <th>year_sold</th>\n",
       "      <th>age_sold</th>\n",
       "      <th>new_resale_price</th>\n",
       "    </tr>\n",
       "  </thead>\n",
       "  <tbody>\n",
       "    <tr>\n",
       "      <th>floor_area_sqm</th>\n",
       "      <td>1.000000</td>\n",
       "      <td>0.031118</td>\n",
       "      <td>-0.097001</td>\n",
       "      <td>0.869371</td>\n",
       "    </tr>\n",
       "    <tr>\n",
       "      <th>year_sold</th>\n",
       "      <td>0.031118</td>\n",
       "      <td>1.000000</td>\n",
       "      <td>-0.000883</td>\n",
       "      <td>-0.244847</td>\n",
       "    </tr>\n",
       "    <tr>\n",
       "      <th>age_sold</th>\n",
       "      <td>-0.097001</td>\n",
       "      <td>-0.000883</td>\n",
       "      <td>1.000000</td>\n",
       "      <td>-0.193563</td>\n",
       "    </tr>\n",
       "    <tr>\n",
       "      <th>new_resale_price</th>\n",
       "      <td>0.869371</td>\n",
       "      <td>-0.244847</td>\n",
       "      <td>-0.193563</td>\n",
       "      <td>1.000000</td>\n",
       "    </tr>\n",
       "  </tbody>\n",
       "</table>\n",
       "</div>"
      ],
      "text/plain": [
       "                  floor_area_sqm  year_sold  age_sold  new_resale_price\n",
       "floor_area_sqm          1.000000   0.031118 -0.097001          0.869371\n",
       "year_sold               0.031118   1.000000 -0.000883         -0.244847\n",
       "age_sold               -0.097001  -0.000883  1.000000         -0.193563\n",
       "new_resale_price        0.869371  -0.244847 -0.193563          1.000000"
      ]
     },
     "execution_count": 8,
     "metadata": {},
     "output_type": "execute_result"
    }
   ],
   "source": [
    "yishun.corr()"
   ]
  },
  {
   "cell_type": "markdown",
   "id": "002d3269",
   "metadata": {
    "heading_collapsed": true
   },
   "source": [
    "# Visualisation"
   ]
  },
  {
   "cell_type": "code",
   "execution_count": 9,
   "id": "1da68e1d",
   "metadata": {
    "ExecuteTime": {
     "end_time": "2022-10-13T12:38:48.365357Z",
     "start_time": "2022-10-13T12:38:48.271677Z"
    },
    "hidden": true
   },
   "outputs": [
    {
     "data": {
      "image/png": "[encoded data removed]",
      "text/plain": [
       "<Figure size 432x288 with 1 Axes>"
      ]
     },
     "metadata": {},
     "output_type": "display_data"
    }
   ],
   "source": [
    "yishun.boxplot(by =[\"year_sold\"], column =['new_resale_price'], grid = False);"
   ]
  },
  {
   "cell_type": "code",
   "execution_count": 10,
   "id": "470dd77d",
   "metadata": {
    "ExecuteTime": {
     "end_time": "2022-10-13T12:38:48.459455Z",
     "start_time": "2022-10-13T12:38:48.367401Z"
    },
    "hidden": true
   },
   "outputs": [
    {
     "data": {
      "image/png": "[encoded data removed]",
      "text/plain": [
       "<Figure size 1296x720 with 1 Axes>"
      ]
     },
     "metadata": {},
     "output_type": "display_data"
    }
   ],
   "source": [
    "yishun.boxplot(by =[\"flat_type\"], column =['new_resale_price'], figsize = (18,10), grid = False);"
   ]
  },
  {
   "cell_type": "code",
   "execution_count": 11,
   "id": "8c8a1787",
   "metadata": {
    "ExecuteTime": {
     "end_time": "2022-10-13T12:38:48.649233Z",
     "start_time": "2022-10-13T12:38:48.460562Z"
    },
    "hidden": true
   },
   "outputs": [
    {
     "data": {
      "image/png": "[encoded data removed]",
      "text/plain": [
       "<Figure size 1296x720 with 1 Axes>"
      ]
     },
     "metadata": {},
     "output_type": "display_data"
    }
   ],
   "source": [
    "yishun.boxplot(by =[\"age_sold\"], column =['new_resale_price'], figsize = (18,10), grid = False);"
   ]
  },
  {
   "cell_type": "code",
   "execution_count": 12,
   "id": "eebaab22",
   "metadata": {
    "ExecuteTime": {
     "end_time": "2022-10-13T12:38:48.743723Z",
     "start_time": "2022-10-13T12:38:48.650864Z"
    },
    "hidden": true
   },
   "outputs": [
    {
     "data": {
      "image/png": "[encoded data removed]",
      "text/plain": [
       "<Figure size 1296x720 with 1 Axes>"
      ]
     },
     "metadata": {},
     "output_type": "display_data"
    }
   ],
   "source": [
    "yishun.boxplot(by =[\"storey_range\"], column =['new_resale_price'], figsize = (18,10), grid = False);"
   ]
  },
  {
   "cell_type": "markdown",
   "id": "314cca5b",
   "metadata": {
    "heading_collapsed": true
   },
   "source": [
    "# Data Preparation"
   ]
  },
  {
   "cell_type": "code",
   "execution_count": 13,
   "id": "5606f954",
   "metadata": {
    "ExecuteTime": {
     "end_time": "2022-10-13T12:38:48.759708Z",
     "start_time": "2022-10-13T12:38:48.744507Z"
    },
    "hidden": true
   },
   "outputs": [],
   "source": [
    "#Add dummy variables to categorical data\n",
    "yishun = pd.get_dummies(data=yishun, drop_first=True)"
   ]
  },
  {
   "cell_type": "code",
   "execution_count": 14,
   "id": "627dbaee",
   "metadata": {
    "ExecuteTime": {
     "end_time": "2022-10-13T12:38:48.775537Z",
     "start_time": "2022-10-13T12:38:48.760740Z"
    },
    "hidden": true
   },
   "outputs": [],
   "source": [
    "#set model weights based on year sold and subsequently use that column as weight\n",
    "yishun['year_sold'] = np.where(yishun['year_sold'] == 2013, 20, yishun['year_sold'])\n",
    "yishun['year_sold'] = np.where(yishun['year_sold'] == 2014, 20, yishun['year_sold'])\n",
    "yishun['year_sold'] = np.where(yishun['year_sold'] == 2015, 30, yishun['year_sold'])\n",
    "yishun['year_sold'] = np.where(yishun['year_sold'] == 2016, 40, yishun['year_sold'])"
   ]
  },
  {
   "cell_type": "code",
   "execution_count": 15,
   "id": "f02b01d5",
   "metadata": {
    "ExecuteTime": {
     "end_time": "2022-10-13T12:38:48.886859Z",
     "start_time": "2022-10-13T12:38:48.776538Z"
    },
    "hidden": true
   },
   "outputs": [],
   "source": [
    "#Split train test set\n",
    "train = yishun.where((yishun.year_sold>=20) & (yishun.year_sold<50))\n",
    "train.dropna(inplace=True)\n",
    "\n",
    "test = yishun.where(merged.year_sold==2017)\n",
    "test.dropna(inplace=True)\n",
    "\n",
    "X_train = train.drop(['year_sold', 'new_resale_price'], axis=1)\n",
    "X_train_weights = pd.DataFrame(train[\"year_sold\"]).to_numpy()\n",
    "X_test = test.drop(['year_sold', 'new_resale_price'], axis=1)\n",
    "\n",
    "y_train = train['new_resale_price']\n",
    "y_test  = test['new_resale_price']"
   ]
  },
  {
   "cell_type": "markdown",
   "id": "78294744",
   "metadata": {
    "heading_collapsed": true
   },
   "source": [
    "# Linear Regression"
   ]
  },
  {
   "cell_type": "code",
   "execution_count": 16,
   "id": "a571a624",
   "metadata": {
    "ExecuteTime": {
     "end_time": "2022-10-13T12:38:48.918306Z",
     "start_time": "2022-10-13T12:38:48.887840Z"
    },
    "hidden": true
   },
   "outputs": [],
   "source": [
    "from sklearn.linear_model import LinearRegression\n",
    "\n",
    "def run_LM(weighted):\n",
    "    #fit model\n",
    "    model = LinearRegression()\n",
    "    if weighted:\n",
    "        model.fit(X_train,y_train, X_train_weights.ravel())\n",
    "    else:\n",
    "        model.fit(X_train,y_train)\n",
    "    predictions = model.predict(X_test)\n",
    "\n",
    "    #assess model\n",
    "    RMSE = mean_squared_error(y_test, predictions, squared=False)\n",
    "    R2 = r2_score(y_test, predictions)\n",
    "    return RMSE, R2, model"
   ]
  },
  {
   "cell_type": "code",
   "execution_count": 17,
   "id": "2c1aacb0",
   "metadata": {
    "ExecuteTime": {
     "end_time": "2022-10-13T12:38:48.934101Z",
     "start_time": "2022-10-13T12:38:48.919302Z"
    },
    "hidden": true
   },
   "outputs": [
    {
     "name": "stdout",
     "output_type": "stream",
     "text": [
      "Unweighted LM model RMSE =  42878.55835248335 ; R2 =  0.7257922142908784\n",
      "Weighted LM model RMSE =  39093.61511052492 ; R2 =  0.7720649581657775\n"
     ]
    }
   ],
   "source": [
    "RMSE, R2, model = run_LM(False)\n",
    "print(\"Unweighted LM model RMSE = \", RMSE, \"; R2 = \", R2)\n",
    "RMSE, R2, model = run_LM(True)\n",
    "print(\"Weighted LM model RMSE = \", RMSE, \"; R2 = \", R2)"
   ]
  },
  {
   "cell_type": "code",
   "execution_count": 18,
   "id": "c8aaa860",
   "metadata": {
    "ExecuteTime": {
     "end_time": "2022-10-13T12:38:49.043601Z",
     "start_time": "2022-10-13T12:38:48.935088Z"
    },
    "hidden": true
   },
   "outputs": [
    {
     "data": {
      "image/png": "[encoded data removed]",
      "text/plain": [
       "<Figure size 432x288 with 1 Axes>"
      ]
     },
     "metadata": {},
     "output_type": "display_data"
    }
   ],
   "source": [
    "predictions = model.predict(X_test)\n",
    "sns.regplot(x=y_test,y=predictions);"
   ]
  },
  {
   "cell_type": "markdown",
   "id": "e5bc77db",
   "metadata": {
    "heading_collapsed": true
   },
   "source": [
    "# Random Forest"
   ]
  },
  {
   "cell_type": "code",
   "execution_count": 19,
   "id": "2e5ed9f4",
   "metadata": {
    "ExecuteTime": {
     "end_time": "2022-10-13T12:38:49.407137Z",
     "start_time": "2022-10-13T12:38:49.044537Z"
    },
    "hidden": true
   },
   "outputs": [
    {
     "name": "stdout",
     "output_type": "stream",
     "text": [
      "\n",
      "Train RMSE using sklearn RandomForestRegressor model: 26211.3\n",
      "Train R2 using sklearn RandomForestRegressor model: 1.0\n",
      "\n",
      "Test RMSE using sklearn RandomForestRegressor model: 36108.63\n",
      "Test R2 using sklearn RandomForestRegressor model: 1.0\n"
     ]
    }
   ],
   "source": [
    "#try using RandomForestRegressor\n",
    "from sklearn.ensemble import RandomForestRegressor\n",
    "\n",
    "rf = RandomForestRegressor().fit(X_train, y_train)\n",
    "\n",
    "y_pred_train = rf.predict(X_train)\n",
    "print(\"\\nTrain RMSE using sklearn RandomForestRegressor model:\",\n",
    "round(np.sqrt(mean_squared_error(y_train, y_pred_train)),3))\n",
    "print(\"Train R2 using sklearn RandomForestRegressor model:\",\n",
    "round(r2_score(y_train, y_pred_train),0))\n",
    "\n",
    "y_pred_test = rf.predict(X_test)\n",
    "print(\"\\nTest RMSE using sklearn RandomForestRegressor model:\",\n",
    "round(np.sqrt(mean_squared_error(y_test, y_pred_test)),3))\n",
    "print(\"Test R2 using sklearn RandomForestRegressor model:\",\n",
    "round(r2_score(y_test, y_pred_test),0))"
   ]
  },
  {
   "cell_type": "markdown",
   "id": "4d6af5af",
   "metadata": {},
   "source": [
    "# XGBoost"
   ]
  },
  {
   "cell_type": "code",
   "execution_count": 20,
   "id": "5ca6a3a5",
   "metadata": {
    "ExecuteTime": {
     "end_time": "2022-10-13T12:38:49.595629Z",
     "start_time": "2022-10-13T12:38:49.408139Z"
    }
   },
   "outputs": [
    {
     "name": "stdout",
     "output_type": "stream",
     "text": [
      "\n",
      "Train RMSE using sklearn XGBoost model: 26544.524\n",
      "Train R2 using sklearn XGBoost model: 1.0\n",
      "\n",
      "Test RMSE using sklearn XGBoost model: 36960.103\n",
      "Test R2 using sklearn XGBoost model: 1.0\n"
     ]
    }
   ],
   "source": [
    "#using most popular model to try\n",
    "from xgboost import XGBRegressor\n",
    "xgb = XGBRegressor(eval_metric = \"rmse\").fit(X_train, y_train)\n",
    "\n",
    "y_pred_train = xgb.predict(X_train)\n",
    "print(\"\\nTrain RMSE using sklearn XGBoost model:\",\n",
    "round(np.sqrt(mean_squared_error(y_train, y_pred_train)),3))\n",
    "print(\"Train R2 using sklearn XGBoost model:\",\n",
    "round(r2_score(y_train, y_pred_train),0))\n",
    "\n",
    "y_pred_test = xgb.predict(X_test)\n",
    "print(\"\\nTest RMSE using sklearn XGBoost model:\",\n",
    "round(np.sqrt(mean_squared_error(y_test, y_pred_test)),3))\n",
    "print(\"Test R2 using sklearn XGBoost model:\",\n",
    "round(r2_score(y_test, y_pred_test),0))"
   ]
  },
  {
   "cell_type": "markdown",
   "id": "0b4e5f85",
   "metadata": {},
   "source": [
    "# Check price"
   ]
  },
  {
   "cell_type": "code",
   "execution_count": 21,
   "id": "d11e1593",
   "metadata": {
    "ExecuteTime": {
     "end_time": "2022-10-13T12:38:49.800615Z",
     "start_time": "2022-10-13T12:38:49.596182Z"
    }
   },
   "outputs": [
    {
     "name": "stderr",
     "output_type": "stream",
     "text": [
      "C:\\Users\\enchi\\AppData\\Local\\Temp\\ipykernel_16568\\1932474841.py:2: SettingWithCopyWarning: \n",
      "A value is trying to be set on a copy of a slice from a DataFrame\n",
      "\n",
      "See the caveats in the documentation: https://pandas.pydata.org/pandas-docs/stable/user_guide/indexing.html#returning-a-view-versus-a-copy\n",
      "  flat.iloc[0] = [91,2017-1984,0,0,1,0,0,0,1,0,0,0,0,0,0,1,0]\n"
     ]
    }
   ],
   "source": [
    "flat = X_train.iloc[[0]]\n",
    "flat.iloc[0] = [91,2017-1984,0,0,1,0,0,0,1,0,0,0,0,0,0,1,0]"
   ]
  },
  {
   "cell_type": "code",
   "execution_count": 22,
   "id": "62f36cbc",
   "metadata": {
    "ExecuteTime": {
     "end_time": "2022-10-13T12:38:49.816346Z",
     "start_time": "2022-10-13T12:38:49.801430Z"
    }
   },
   "outputs": [
    {
     "data": {
      "text/plain": [
       "array([354793.38], dtype=float32)"
      ]
     },
     "execution_count": 22,
     "metadata": {},
     "output_type": "execute_result"
    }
   ],
   "source": [
    "xgb.predict(flat.iloc[[0]])"
   ]
  },
  {
   "cell_type": "code",
   "execution_count": 23,
   "id": "ca2d3202",
   "metadata": {
    "ExecuteTime": {
     "end_time": "2022-10-13T12:38:50.451094Z",
     "start_time": "2022-10-13T12:38:49.817856Z"
    }
   },
   "outputs": [
    {
     "data": {
      "text/plain": [
       "count       117.000000\n",
       "mean     368917.025641\n",
       "std       33152.314396\n",
       "min      308000.000000\n",
       "25%      343000.000000\n",
       "50%      365000.000000\n",
       "75%      393000.000000\n",
       "max      445000.000000\n",
       "Name: resale_price, dtype: float64"
      ]
     },
     "execution_count": 23,
     "metadata": {},
     "output_type": "execute_result"
    }
   ],
   "source": [
    "check_flat = merged.where((merged.town==\"YISHUN\") &\n",
    "#                       (merged.storey_range==\"10 TO 12\") &\n",
    "                      (merged.flat_type==\"4 ROOM\") &\n",
    "#                       (merged.flat_model==\"NEW GENERATION\") &\n",
    "                      (merged.floor_area_sqm>=90) &\n",
    "                      (merged.age_sold>30) &\n",
    "                      (merged.year_sold==2017)\n",
    "                     )\n",
    "check_flat.dropna(inplace=True)\n",
    "check_flat.resale_price.describe()"
   ]
  }
 ],
 "metadata": {
  "kernelspec": {
   "display_name": "Python 3 (ipykernel)",
   "language": "python",
   "name": "python3"
  },
  "language_info": {
   "codemirror_mode": {
    "name": "ipython",
    "version": 3
   },
   "file_extension": ".py",
   "mimetype": "text/x-python",
   "name": "python",
   "nbconvert_exporter": "python",
   "pygments_lexer": "ipython3",
   "version": "3.10.4"
  },
  "toc": {
   "base_numbering": 1,
   "nav_menu": {},
   "number_sections": true,
   "sideBar": true,
   "skip_h1_title": false,
   "title_cell": "Table of Contents",
   "title_sidebar": "Contents",
   "toc_cell": false,
   "toc_position": {},
   "toc_section_display": true,
   "toc_window_display": false
  }
 },
 "nbformat": 4,
 "nbformat_minor": 5
}
