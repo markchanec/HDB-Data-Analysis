{
 "cells": [
  {
   "cell_type": "code",
   "execution_count": 1,
   "id": "81c6a54d",
   "metadata": {
    "ExecuteTime": {
     "end_time": "2022-10-14T11:19:07.838692Z",
     "start_time": "2022-10-14T11:19:06.828131Z"
    }
   },
   "outputs": [
    {
     "data": {
      "text/plain": [
       "array(['NEW GENERATION', 'IMPROVED', 'MODEL A', 'STANDARD', 'SIMPLIFIED',\n",
       "       'APARTMENT', '2-ROOM', 'PREMIUM APARTMENT', 'MODEL A2',\n",
       "       'MODEL A-MAISONETTE', 'MAISONETTE', 'IMPROVED-MAISONETTE',\n",
       "       'PREMIUM MAISONETTE'], dtype=object)"
      ]
     },
     "execution_count": 1,
     "metadata": {},
     "output_type": "execute_result"
    }
   ],
   "source": [
    "import pandas as pd\n",
    "import numpy as np\n",
    "df = pd.read_csv(\"data/coords/coords_HDB.csv\")\n",
    "df.flat_model.unique()"
   ]
  },
  {
   "cell_type": "code",
   "execution_count": 2,
   "id": "4da68ac7",
   "metadata": {
    "ExecuteTime": {
     "end_time": "2022-10-14T11:19:08.196641Z",
     "start_time": "2022-10-14T11:19:07.839691Z"
    }
   },
   "outputs": [
    {
     "data": {
      "text/plain": [
       "Index(['floor_area_sqm', 'flat_model', 'resale_price', 'year_sold',\n",
       "       'age_sold'],\n",
       "      dtype='object')"
      ]
     },
     "execution_count": 2,
     "metadata": {},
     "output_type": "execute_result"
    }
   ],
   "source": [
    "#remove masionette since we already know that flat type from the flat model\n",
    "process1 = df.loc[df['flat_model']!='MODEL A-MAISONETTE']\n",
    "process1 = process1.loc[df['flat_model']!='MAISONETTE']\n",
    "process1 = process1.loc[df['flat_model']!='IMPROVED-MAISONETTE']\n",
    "process1 = process1.loc[df['flat_model']!='PREMIUM MAISONETTE']\n",
    "\n",
    "#flat_type lost\n",
    "Y = process1['flat_type']\n",
    "process2 = process1.drop(['flat_type', 'town', 'block', 'street_name',\n",
    "                          'storey_range', 'mth_sold', 'lat', 'long'], axis=1)\n",
    "process2.columns"
   ]
  },
  {
   "cell_type": "code",
   "execution_count": 3,
   "id": "69d321dc",
   "metadata": {
    "ExecuteTime": {
     "end_time": "2022-10-14T11:19:08.667251Z",
     "start_time": "2022-10-14T11:19:08.197655Z"
    }
   },
   "outputs": [],
   "source": [
    "X = pd.get_dummies(data=process2, drop_first=True)\n",
    "from sklearn.preprocessing import MinMaxScaler\n",
    "X_scaled = MinMaxScaler().fit_transform(X)"
   ]
  },
  {
   "cell_type": "code",
   "execution_count": 4,
   "id": "3cbb3e47",
   "metadata": {
    "ExecuteTime": {
     "end_time": "2022-10-14T11:19:10.080019Z",
     "start_time": "2022-10-14T11:19:08.668262Z"
    }
   },
   "outputs": [
    {
     "name": "stdout",
     "output_type": "stream",
     "text": [
      "[0.31253752 0.26230171 0.10994795 0.09718158 0.06627704]\n"
     ]
    },
    {
     "data": {
      "text/html": [
       "<div>\n",
       "<style scoped>\n",
       "    .dataframe tbody tr th:only-of-type {\n",
       "        vertical-align: middle;\n",
       "    }\n",
       "\n",
       "    .dataframe tbody tr th {\n",
       "        vertical-align: top;\n",
       "    }\n",
       "\n",
       "    .dataframe thead th {\n",
       "        text-align: right;\n",
       "    }\n",
       "</style>\n",
       "<table border=\"1\" class=\"dataframe\">\n",
       "  <thead>\n",
       "    <tr style=\"text-align: right;\">\n",
       "      <th></th>\n",
       "      <th>0</th>\n",
       "      <th>1</th>\n",
       "    </tr>\n",
       "  </thead>\n",
       "  <tbody>\n",
       "    <tr>\n",
       "      <th>0</th>\n",
       "      <td>PC0</td>\n",
       "      <td>flat_model_MODEL A</td>\n",
       "    </tr>\n",
       "    <tr>\n",
       "      <th>1</th>\n",
       "      <td>PC1</td>\n",
       "      <td>flat_model_NEW GENERATION</td>\n",
       "    </tr>\n",
       "    <tr>\n",
       "      <th>2</th>\n",
       "      <td>PC2</td>\n",
       "      <td>flat_model_SIMPLIFIED</td>\n",
       "    </tr>\n",
       "    <tr>\n",
       "      <th>3</th>\n",
       "      <td>PC3</td>\n",
       "      <td>year_sold</td>\n",
       "    </tr>\n",
       "    <tr>\n",
       "      <th>4</th>\n",
       "      <td>PC4</td>\n",
       "      <td>flat_model_SIMPLIFIED</td>\n",
       "    </tr>\n",
       "  </tbody>\n",
       "</table>\n",
       "</div>"
      ],
      "text/plain": [
       "     0                          1\n",
       "0  PC0         flat_model_MODEL A\n",
       "1  PC1  flat_model_NEW GENERATION\n",
       "2  PC2      flat_model_SIMPLIFIED\n",
       "3  PC3                  year_sold\n",
       "4  PC4      flat_model_SIMPLIFIED"
      ]
     },
     "execution_count": 4,
     "metadata": {},
     "output_type": "execute_result"
    }
   ],
   "source": [
    "from sklearn.decomposition import PCA\n",
    "\n",
    "# Create a PCA model with 5 dimensions\n",
    "dim = 5\n",
    "pca = PCA(n_components=dim).fit(X_scaled)\n",
    "\n",
    "# find variance explained by top PCA dimensions\n",
    "X_reduced = pca.transform(X_scaled)\n",
    "print(pca.explained_variance_ratio_)\n",
    "\n",
    "# get most important feature for each PCA dimension\n",
    "most_important = [np.abs(pca.components_[i]).argmax() for i in range(dim)]\n",
    "initial_feature_names = list(X.columns)\n",
    "most_important_names = [initial_feature_names[most_important[i]] for i in range(dim)]\n",
    "dic = {'PC{}'.format(i): most_important_names[i] for i in range(dim)}\n",
    "\n",
    "PC_impt = pd.DataFrame(dic.items())\n",
    "PC_impt"
   ]
  },
  {
   "cell_type": "code",
   "execution_count": 5,
   "id": "dbe4bcf8",
   "metadata": {
    "ExecuteTime": {
     "end_time": "2022-10-14T11:19:12.811419Z",
     "start_time": "2022-10-14T11:19:10.081131Z"
    }
   },
   "outputs": [
    {
     "data": {
      "text/plain": [
       "array([2, 2, 2, ..., 0, 3, 3])"
      ]
     },
     "execution_count": 5,
     "metadata": {},
     "output_type": "execute_result"
    }
   ],
   "source": [
    "from sklearn.cluster import KMeans\n",
    "#6 for 1-room, 2-room, 3-room, 4-room, 5-room, executive\n",
    "kmeans = KMeans(n_clusters=6)\n",
    "\n",
    "PCA_components = pd.DataFrame(X_reduced)\n",
    "yhat = kmeans.fit_predict(PCA_components)\n",
    "yhat"
   ]
  },
  {
   "cell_type": "code",
   "execution_count": 6,
   "id": "9bb14a86",
   "metadata": {
    "ExecuteTime": {
     "end_time": "2022-10-14T11:19:12.827238Z",
     "start_time": "2022-10-14T11:19:12.813251Z"
    }
   },
   "outputs": [
    {
     "data": {
      "text/html": [
       "<div>\n",
       "<style scoped>\n",
       "    .dataframe tbody tr th:only-of-type {\n",
       "        vertical-align: middle;\n",
       "    }\n",
       "\n",
       "    .dataframe tbody tr th {\n",
       "        vertical-align: top;\n",
       "    }\n",
       "\n",
       "    .dataframe thead th {\n",
       "        text-align: right;\n",
       "    }\n",
       "</style>\n",
       "<table border=\"1\" class=\"dataframe\">\n",
       "  <thead>\n",
       "    <tr style=\"text-align: right;\">\n",
       "      <th></th>\n",
       "      <th>PC1</th>\n",
       "      <th>PC2</th>\n",
       "      <th>PC3</th>\n",
       "      <th>PC4</th>\n",
       "      <th>PC5</th>\n",
       "      <th>cluster</th>\n",
       "    </tr>\n",
       "  </thead>\n",
       "  <tbody>\n",
       "    <tr>\n",
       "      <th>0</th>\n",
       "      <td>-0.173037</td>\n",
       "      <td>0.886215</td>\n",
       "      <td>-0.342056</td>\n",
       "      <td>0.320004</td>\n",
       "      <td>0.128430</td>\n",
       "      <td>2</td>\n",
       "    </tr>\n",
       "    <tr>\n",
       "      <th>1</th>\n",
       "      <td>-0.172294</td>\n",
       "      <td>0.881727</td>\n",
       "      <td>-0.340226</td>\n",
       "      <td>0.320509</td>\n",
       "      <td>0.142322</td>\n",
       "      <td>2</td>\n",
       "    </tr>\n",
       "    <tr>\n",
       "      <th>2</th>\n",
       "      <td>-0.172216</td>\n",
       "      <td>0.881238</td>\n",
       "      <td>-0.339980</td>\n",
       "      <td>0.320441</td>\n",
       "      <td>0.143767</td>\n",
       "      <td>2</td>\n",
       "    </tr>\n",
       "    <tr>\n",
       "      <th>3</th>\n",
       "      <td>-0.173678</td>\n",
       "      <td>0.881690</td>\n",
       "      <td>-0.338044</td>\n",
       "      <td>0.312759</td>\n",
       "      <td>0.137520</td>\n",
       "      <td>2</td>\n",
       "    </tr>\n",
       "    <tr>\n",
       "      <th>4</th>\n",
       "      <td>-0.171825</td>\n",
       "      <td>0.878797</td>\n",
       "      <td>-0.338751</td>\n",
       "      <td>0.320103</td>\n",
       "      <td>0.150992</td>\n",
       "      <td>2</td>\n",
       "    </tr>\n",
       "  </tbody>\n",
       "</table>\n",
       "</div>"
      ],
      "text/plain": [
       "        PC1       PC2       PC3       PC4       PC5  cluster\n",
       "0 -0.173037  0.886215 -0.342056  0.320004  0.128430        2\n",
       "1 -0.172294  0.881727 -0.340226  0.320509  0.142322        2\n",
       "2 -0.172216  0.881238 -0.339980  0.320441  0.143767        2\n",
       "3 -0.173678  0.881690 -0.338044  0.312759  0.137520        2\n",
       "4 -0.171825  0.878797 -0.338751  0.320103  0.150992        2"
      ]
     },
     "execution_count": 6,
     "metadata": {},
     "output_type": "execute_result"
    }
   ],
   "source": [
    "# Convert to a data frame\n",
    "X_reduceddf = pd.DataFrame(X_reduced, index=X.index, columns=['PC1','PC2','PC3','PC4','PC5'])\n",
    "X_reduceddf['cluster'] = yhat\n",
    "X_reduceddf.head()"
   ]
  },
  {
   "cell_type": "code",
   "execution_count": 7,
   "id": "1cc10afe",
   "metadata": {
    "ExecuteTime": {
     "end_time": "2022-10-14T11:19:18.045992Z",
     "start_time": "2022-10-14T11:19:12.828857Z"
    }
   },
   "outputs": [
    {
     "data": {
      "image/png": "[encoded data removed]",
      "text/plain": [
       "<Figure size 576x360 with 1 Axes>"
      ]
     },
     "metadata": {},
     "output_type": "display_data"
    }
   ],
   "source": [
    "import matplotlib.pyplot as plt\n",
    "plt.style.use('dark_background')\n",
    "import seaborn as sns\n",
    "\n",
    "plt.figure(figsize=(8, 5))\n",
    "plt.xlabel('PC1')\n",
    "plt.ylabel('PC2')\n",
    "\n",
    "sc = sns.scatterplot(x=X_reduceddf[\"PC1\"], y=X_reduceddf[\"PC2\"], data=X_reduceddf,\n",
    "                     palette=\"Set2\", hue=X_reduceddf[\"cluster\"], marker='x')\n",
    "\n",
    "fig = sc.get_figure()"
   ]
  },
  {
   "cell_type": "markdown",
   "id": "78afc11f",
   "metadata": {},
   "source": [
    "# for checking only"
   ]
  },
  {
   "cell_type": "code",
   "execution_count": 25,
   "id": "e7749019",
   "metadata": {
    "ExecuteTime": {
     "end_time": "2022-10-14T11:32:13.522679Z",
     "start_time": "2022-10-14T11:32:13.506578Z"
    }
   },
   "outputs": [
    {
     "data": {
      "text/html": [
       "<div>\n",
       "<style scoped>\n",
       "    .dataframe tbody tr th:only-of-type {\n",
       "        vertical-align: middle;\n",
       "    }\n",
       "\n",
       "    .dataframe tbody tr th {\n",
       "        vertical-align: top;\n",
       "    }\n",
       "\n",
       "    .dataframe thead th {\n",
       "        text-align: right;\n",
       "    }\n",
       "</style>\n",
       "<table border=\"1\" class=\"dataframe\">\n",
       "  <thead>\n",
       "    <tr style=\"text-align: right;\">\n",
       "      <th></th>\n",
       "      <th>floor_area_sqm</th>\n",
       "      <th>true</th>\n",
       "      <th>predicted</th>\n",
       "    </tr>\n",
       "  </thead>\n",
       "  <tbody>\n",
       "    <tr>\n",
       "      <th>0</th>\n",
       "      <td>81.0</td>\n",
       "      <td>4 ROOM</td>\n",
       "      <td>2</td>\n",
       "    </tr>\n",
       "    <tr>\n",
       "      <th>1</th>\n",
       "      <td>91.0</td>\n",
       "      <td>4 ROOM</td>\n",
       "      <td>2</td>\n",
       "    </tr>\n",
       "    <tr>\n",
       "      <th>2</th>\n",
       "      <td>92.0</td>\n",
       "      <td>4 ROOM</td>\n",
       "      <td>2</td>\n",
       "    </tr>\n",
       "    <tr>\n",
       "      <th>3</th>\n",
       "      <td>92.0</td>\n",
       "      <td>4 ROOM</td>\n",
       "      <td>2</td>\n",
       "    </tr>\n",
       "    <tr>\n",
       "      <th>4</th>\n",
       "      <td>97.0</td>\n",
       "      <td>4 ROOM</td>\n",
       "      <td>2</td>\n",
       "    </tr>\n",
       "  </tbody>\n",
       "</table>\n",
       "</div>"
      ],
      "text/plain": [
       "   floor_area_sqm    true  predicted\n",
       "0            81.0  4 ROOM          2\n",
       "1            91.0  4 ROOM          2\n",
       "2            92.0  4 ROOM          2\n",
       "3            92.0  4 ROOM          2\n",
       "4            97.0  4 ROOM          2"
      ]
     },
     "execution_count": 25,
     "metadata": {},
     "output_type": "execute_result"
    }
   ],
   "source": [
    "check = process1.floor_area_sqm.to_frame()\n",
    "check[\"true\"] = Y\n",
    "check[\"predicted\"] = yhat\n",
    "\n",
    "check.head()"
   ]
  },
  {
   "cell_type": "code",
   "execution_count": 26,
   "id": "57ff32f5",
   "metadata": {
    "ExecuteTime": {
     "end_time": "2022-10-14T11:32:18.861118Z",
     "start_time": "2022-10-14T11:32:18.472579Z"
    }
   },
   "outputs": [
    {
     "data": {
      "image/png": "[encoded data removed]",
      "text/plain": [
       "<Figure size 432x288 with 1 Axes>"
      ]
     },
     "metadata": {},
     "output_type": "display_data"
    }
   ],
   "source": [
    "check.boxplot(by =[\"predicted\"], column =['floor_area_sqm'], grid = False);"
   ]
  },
  {
   "cell_type": "code",
   "execution_count": 27,
   "id": "7d5b1d30",
   "metadata": {
    "ExecuteTime": {
     "end_time": "2022-10-14T11:32:24.684068Z",
     "start_time": "2022-10-14T11:32:24.535734Z"
    }
   },
   "outputs": [],
   "source": [
    "check.loc[check.predicted == 0, \"predicted\"] = \"1 ROOM\" ## \n",
    "check.loc[check.predicted == 1, \"predicted\"] = \"5 ROOM\" ## \n",
    "check.loc[check.predicted == 2, \"predicted\"] = \"3 ROOM\" ## \n",
    "#cluster 3,4 nearest probably 5 room, executive\n",
    "check.loc[check.predicted == 3, \"predicted\"] = \"2 ROOM\" ## \n",
    "check.loc[check.predicted == 4, \"predicted\"] = \"EXECUTIVE\" ## \n",
    "check.loc[check.predicted == 5, \"predicted\"] = \"4 ROOM\" ## "
   ]
  },
  {
   "cell_type": "code",
   "execution_count": 28,
   "id": "e0fbd744",
   "metadata": {
    "ExecuteTime": {
     "end_time": "2022-10-14T11:32:28.629168Z",
     "start_time": "2022-10-14T11:32:28.593507Z"
    }
   },
   "outputs": [
    {
     "data": {
      "text/plain": [
       "47.93116798899148"
      ]
     },
     "execution_count": 28,
     "metadata": {},
     "output_type": "execute_result"
    }
   ],
   "source": [
    "check['acc'] = np.where((check['predicted'] == check['true']), 1, 0)\n",
    "check.acc.sum()/check.shape[0]*100"
   ]
  }
 ],
 "metadata": {
  "kernelspec": {
   "display_name": "Python 3 (ipykernel)",
   "language": "python",
   "name": "python3"
  },
  "language_info": {
   "codemirror_mode": {
    "name": "ipython",
    "version": 3
   },
   "file_extension": ".py",
   "mimetype": "text/x-python",
   "name": "python",
   "nbconvert_exporter": "python",
   "pygments_lexer": "ipython3",
   "version": "3.10.4"
  },
  "toc": {
   "base_numbering": 1,
   "nav_menu": {},
   "number_sections": true,
   "sideBar": true,
   "skip_h1_title": false,
   "title_cell": "Table of Contents",
   "title_sidebar": "Contents",
   "toc_cell": false,
   "toc_position": {},
   "toc_section_display": true,
   "toc_window_display": false
  }
 },
 "nbformat": 4,
 "nbformat_minor": 5
}
